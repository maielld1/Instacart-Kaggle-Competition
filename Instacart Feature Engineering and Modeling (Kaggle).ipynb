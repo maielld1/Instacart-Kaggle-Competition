{
 "cells": [
  {
   "cell_type": "markdown",
   "metadata": {},
   "source": [
    "# Instacart Market Basket Analysis\n",
    "## Devin Maiello\n",
    "\n",
    "\n",
    "\n",
    "\n",
    "\n",
    "This is the notebook I used for feature engineering, modelling, and optimizing F1 score"
   ]
  },
  {
   "cell_type": "code",
   "execution_count": 1,
   "metadata": {
    "collapsed": false
   },
   "outputs": [
    {
     "data": {
      "text/html": [
       "<style>.container { width:100% !important; }</style>"
      ],
      "text/plain": [
       "<IPython.core.display.HTML object>"
      ]
     },
     "metadata": {},
     "output_type": "display_data"
    }
   ],
   "source": [
    "import pandas as pd\n",
    "import numpy as np\n",
    "import seaborn as sns\n",
    "from matplotlib import pyplot as plt\n",
    "%matplotlib inline\n",
    "import os\n",
    "from sklearn.linear_model import LogisticRegressionCV, LogisticRegression\n",
    "from sklearn.metrics import roc_auc_score, make_scorer, accuracy_score, f1_score\n",
    "from sklearn.model_selection import train_test_split\n",
    "\n",
    "from IPython.core.display import display, HTML\n",
    "display(HTML(\"<style>.container { width:100% !important; }</style>\"))\n",
    "\n",
    "orders = pd.read_csv('./data/orders.csv')\n",
    "priors = pd.read_csv('./data/order_products__prior.csv')\n",
    "aisles = pd.read_csv('./data/aisles.csv')\n",
    "departments = pd.read_csv('./data/departments.csv')\n",
    "products = pd.read_csv('./data/products.csv')\n",
    "train = pd.read_csv('./data/order_products__train.csv')"
   ]
  },
  {
   "cell_type": "code",
   "execution_count": 2,
   "metadata": {
    "collapsed": false
   },
   "outputs": [
    {
     "name": "stdout",
     "output_type": "stream",
     "text": [
      "Orders:  3421083\n",
      "Priors:  32434489\n",
      "Train:  1384617\n"
     ]
    }
   ],
   "source": [
    "print('Orders: ', len(orders))\n",
    "print('Priors: ', len(priors))\n",
    "print('Train: ', len(train))"
   ]
  },
  {
   "cell_type": "code",
   "execution_count": 3,
   "metadata": {
    "collapsed": true
   },
   "outputs": [],
   "source": [
    "# Reduce the dataset to produce a smaller number of users\n",
    "fracTrain = 0.1\n",
    "fracTest = 1\n",
    "\n",
    "# Total users in train set. This include both the actual training set and the holdout set\n",
    "sampleOrdersTrain = orders[orders[\"eval_set\"]==\"train\"][[\"user_id\",\"order_id\"]].drop_duplicates().sample(frac=fracTrain).reset_index(drop=True)\n",
    "sampleOrdersTest = orders[orders[\"eval_set\"]==\"test\"][[\"user_id\",\"order_id\"]].drop_duplicates().sample(frac=fracTest).reset_index(drop=True)\n",
    "sampleOrders = pd.concat([sampleOrdersTrain, sampleOrdersTest], ignore_index=True)\n",
    "\n",
    "orders = orders[orders[\"user_id\"].isin(sampleOrders[\"user_id\"])].reset_index(drop=True)\n",
    "train = train[train[\"order_id\"].isin(orders[\"order_id\"])].reset_index(drop=True)\n",
    "priors = priors[priors[\"order_id\"].isin(orders[\"order_id\"])].reset_index(drop=True)"
   ]
  },
  {
   "cell_type": "code",
   "execution_count": null,
   "metadata": {
    "collapsed": true
   },
   "outputs": [],
   "source": []
  },
  {
   "cell_type": "code",
   "execution_count": 4,
   "metadata": {
    "collapsed": false
   },
   "outputs": [
    {
     "name": "stdout",
     "output_type": "stream",
     "text": [
      "13827423\n"
     ]
    },
    {
     "data": {
      "text/html": [
       "<div>\n",
       "<table border=\"1\" class=\"dataframe\">\n",
       "  <thead>\n",
       "    <tr style=\"text-align: right;\">\n",
       "      <th></th>\n",
       "      <th>order_id</th>\n",
       "      <th>product_id</th>\n",
       "      <th>add_to_cart_order</th>\n",
       "      <th>reordered</th>\n",
       "    </tr>\n",
       "  </thead>\n",
       "  <tbody>\n",
       "    <tr>\n",
       "      <th>0</th>\n",
       "      <td>7</td>\n",
       "      <td>34050</td>\n",
       "      <td>1</td>\n",
       "      <td>0</td>\n",
       "    </tr>\n",
       "    <tr>\n",
       "      <th>1</th>\n",
       "      <td>7</td>\n",
       "      <td>46802</td>\n",
       "      <td>2</td>\n",
       "      <td>0</td>\n",
       "    </tr>\n",
       "    <tr>\n",
       "      <th>2</th>\n",
       "      <td>13</td>\n",
       "      <td>17330</td>\n",
       "      <td>1</td>\n",
       "      <td>0</td>\n",
       "    </tr>\n",
       "    <tr>\n",
       "      <th>3</th>\n",
       "      <td>13</td>\n",
       "      <td>27407</td>\n",
       "      <td>2</td>\n",
       "      <td>0</td>\n",
       "    </tr>\n",
       "    <tr>\n",
       "      <th>4</th>\n",
       "      <td>13</td>\n",
       "      <td>35419</td>\n",
       "      <td>3</td>\n",
       "      <td>0</td>\n",
       "    </tr>\n",
       "  </tbody>\n",
       "</table>\n",
       "</div>"
      ],
      "text/plain": [
       "   order_id  product_id  add_to_cart_order  reordered\n",
       "0         7       34050                  1          0\n",
       "1         7       46802                  2          0\n",
       "2        13       17330                  1          0\n",
       "3        13       27407                  2          0\n",
       "4        13       35419                  3          0"
      ]
     },
     "execution_count": 4,
     "metadata": {},
     "output_type": "execute_result"
    }
   ],
   "source": [
    "#log = pd.merge(pd.concat([priors, train],ignore_index=1),orders, on='order_id', how='left')[['order_id', 'user_id', 'product_id', 'order_number']]\n",
    "pr = priors.copy()\n",
    "print(len(pr))\n",
    "pr.head()\n",
    "\n"
   ]
  },
  {
   "cell_type": "code",
   "execution_count": 5,
   "metadata": {
    "collapsed": false
   },
   "outputs": [
    {
     "name": "stdout",
     "output_type": "stream",
     "text": [
      "Orders:  1456004\n",
      "Priors:  13827423\n",
      "Train:  137850\n",
      "Sample Train and Test:  88121\n"
     ]
    }
   ],
   "source": [
    "print('Orders: ', len(orders))\n",
    "print('Priors: ', len(priors))\n",
    "print('Train: ', len(train))\n",
    "print('Sample Train and Test: ', len(sampleOrders))\n",
    "#print('Prior/Train: ', len(pr_tr))"
   ]
  },
  {
   "cell_type": "code",
   "execution_count": 6,
   "metadata": {
    "collapsed": false
   },
   "outputs": [
    {
     "name": "stdout",
     "output_type": "stream",
     "text": [
      "prior    1367883\n",
      "test       75000\n",
      "train      13121\n",
      "Name: eval_set, dtype: int64\n"
     ]
    },
    {
     "data": {
      "text/plain": [
       "<matplotlib.text.Text at 0x11b59b0b8>"
      ]
     },
     "execution_count": 6,
     "metadata": {},
     "output_type": "execute_result"
    },
    {
     "data": {
      "image/png": "[encoded data removed]",
      "text/plain": [
       "<matplotlib.figure.Figure at 0x11c93d940>"
      ]
     },
     "metadata": {},
     "output_type": "display_data"
    }
   ],
   "source": [
    "sizes = orders[\"eval_set\"].value_counts()\n",
    "print(sizes)\n",
    "sns.barplot(x=sizes.index, y=sizes.values)\n",
    "plt.title(\"Count of orders in each dataset\")"
   ]
  },
  {
   "cell_type": "markdown",
   "metadata": {},
   "source": [
    "### User Behavior Features"
   ]
  },
  {
   "cell_type": "code",
   "execution_count": 7,
   "metadata": {
    "collapsed": false
   },
   "outputs": [
    {
     "data": {
      "text/html": [
       "<div>\n",
       "<table border=\"1\" class=\"dataframe\">\n",
       "  <thead>\n",
       "    <tr style=\"text-align: right;\">\n",
       "      <th></th>\n",
       "      <th>user_id</th>\n",
       "      <th>avg_days_between_orders</th>\n",
       "      <th>avg_order_dow</th>\n",
       "      <th>avg_order_hod</th>\n",
       "    </tr>\n",
       "  </thead>\n",
       "  <tbody>\n",
       "    <tr>\n",
       "      <th>0</th>\n",
       "      <td>3</td>\n",
       "      <td>12.000000</td>\n",
       "      <td>1.384615</td>\n",
       "      <td>4.076923</td>\n",
       "    </tr>\n",
       "    <tr>\n",
       "      <th>1</th>\n",
       "      <td>4</td>\n",
       "      <td>17.000000</td>\n",
       "      <td>4.500000</td>\n",
       "      <td>3.125000</td>\n",
       "    </tr>\n",
       "    <tr>\n",
       "      <th>2</th>\n",
       "      <td>6</td>\n",
       "      <td>13.333333</td>\n",
       "      <td>3.500000</td>\n",
       "      <td>4.250000</td>\n",
       "    </tr>\n",
       "    <tr>\n",
       "      <th>3</th>\n",
       "      <td>11</td>\n",
       "      <td>18.714286</td>\n",
       "      <td>4.500000</td>\n",
       "      <td>2.718750</td>\n",
       "    </tr>\n",
       "    <tr>\n",
       "      <th>4</th>\n",
       "      <td>12</td>\n",
       "      <td>26.000000</td>\n",
       "      <td>2.666667</td>\n",
       "      <td>2.791667</td>\n",
       "    </tr>\n",
       "  </tbody>\n",
       "</table>\n",
       "</div>"
      ],
      "text/plain": [
       "   user_id  avg_days_between_orders  avg_order_dow  avg_order_hod\n",
       "0        3                12.000000       1.384615       4.076923\n",
       "1        4                17.000000       4.500000       3.125000\n",
       "2        6                13.333333       3.500000       4.250000\n",
       "3       11                18.714286       4.500000       2.718750\n",
       "4       12                26.000000       2.666667       2.791667"
      ]
     },
     "execution_count": 7,
     "metadata": {},
     "output_type": "execute_result"
    }
   ],
   "source": [
    "usr = orders.groupby('user_id')['days_since_prior_order'].mean().to_frame('avg_days_between_orders').reset_index()\n",
    "dow = orders.groupby('user_id')['order_dow'].mean().to_frame('avg_order_dow').reset_index()\n",
    "hod = orders.groupby('user_id')['order_hour_of_day'].mean().to_frame('avg_order_hod').reset_index()\n",
    "hod['avg_order_hod'] = hod['avg_order_hod']/4\n",
    "usr = usr.merge(dow, on='user_id')\n",
    "usr = usr.merge(hod, on='user_id')\n",
    "del dow\n",
    "del hod\n",
    "usr.head()"
   ]
  },
  {
   "cell_type": "code",
   "execution_count": null,
   "metadata": {
    "collapsed": true
   },
   "outputs": [],
   "source": []
  },
  {
   "cell_type": "code",
   "execution_count": 8,
   "metadata": {
    "collapsed": false
   },
   "outputs": [
    {
     "data": {
      "text/html": [
       "<div>\n",
       "<table border=\"1\" class=\"dataframe\">\n",
       "  <thead>\n",
       "    <tr style=\"text-align: right;\">\n",
       "      <th></th>\n",
       "      <th>order_id</th>\n",
       "      <th>user_id</th>\n",
       "      <th>eval_set</th>\n",
       "      <th>order_number</th>\n",
       "      <th>order_dow</th>\n",
       "      <th>order_hour_of_day</th>\n",
       "      <th>days_since_prior_order</th>\n",
       "      <th>Weekend?</th>\n",
       "    </tr>\n",
       "  </thead>\n",
       "  <tbody>\n",
       "    <tr>\n",
       "      <th>0</th>\n",
       "      <td>1374495</td>\n",
       "      <td>3</td>\n",
       "      <td>prior</td>\n",
       "      <td>1</td>\n",
       "      <td>1</td>\n",
       "      <td>14</td>\n",
       "      <td>NaN</td>\n",
       "      <td>1</td>\n",
       "    </tr>\n",
       "    <tr>\n",
       "      <th>1</th>\n",
       "      <td>444309</td>\n",
       "      <td>3</td>\n",
       "      <td>prior</td>\n",
       "      <td>2</td>\n",
       "      <td>3</td>\n",
       "      <td>19</td>\n",
       "      <td>9.0</td>\n",
       "      <td>0</td>\n",
       "    </tr>\n",
       "    <tr>\n",
       "      <th>2</th>\n",
       "      <td>3002854</td>\n",
       "      <td>3</td>\n",
       "      <td>prior</td>\n",
       "      <td>3</td>\n",
       "      <td>3</td>\n",
       "      <td>16</td>\n",
       "      <td>21.0</td>\n",
       "      <td>0</td>\n",
       "    </tr>\n",
       "    <tr>\n",
       "      <th>3</th>\n",
       "      <td>2037211</td>\n",
       "      <td>3</td>\n",
       "      <td>prior</td>\n",
       "      <td>4</td>\n",
       "      <td>2</td>\n",
       "      <td>18</td>\n",
       "      <td>20.0</td>\n",
       "      <td>0</td>\n",
       "    </tr>\n",
       "    <tr>\n",
       "      <th>4</th>\n",
       "      <td>2710558</td>\n",
       "      <td>3</td>\n",
       "      <td>prior</td>\n",
       "      <td>5</td>\n",
       "      <td>0</td>\n",
       "      <td>17</td>\n",
       "      <td>12.0</td>\n",
       "      <td>1</td>\n",
       "    </tr>\n",
       "  </tbody>\n",
       "</table>\n",
       "</div>"
      ],
      "text/plain": [
       "   order_id  user_id eval_set  order_number  order_dow  order_hour_of_day  \\\n",
       "0   1374495        3    prior             1          1                 14   \n",
       "1    444309        3    prior             2          3                 19   \n",
       "2   3002854        3    prior             3          3                 16   \n",
       "3   2037211        3    prior             4          2                 18   \n",
       "4   2710558        3    prior             5          0                 17   \n",
       "\n",
       "   days_since_prior_order  Weekend?  \n",
       "0                     NaN         1  \n",
       "1                     9.0         0  \n",
       "2                    21.0         0  \n",
       "3                    20.0         0  \n",
       "4                    12.0         1  "
      ]
     },
     "execution_count": 8,
     "metadata": {},
     "output_type": "execute_result"
    }
   ],
   "source": [
    "orders['Weekend?'] = [1 if x in [0,1] else 0 for x in orders['order_dow']]\n",
    "orders.head()"
   ]
  },
  {
   "cell_type": "code",
   "execution_count": null,
   "metadata": {
    "collapsed": true
   },
   "outputs": [],
   "source": []
  },
  {
   "cell_type": "code",
   "execution_count": 9,
   "metadata": {
    "collapsed": false
   },
   "outputs": [
    {
     "name": "stdout",
     "output_type": "stream",
     "text": [
      "1456004\n"
     ]
    },
    {
     "data": {
      "text/html": [
       "<div>\n",
       "<table border=\"1\" class=\"dataframe\">\n",
       "  <thead>\n",
       "    <tr style=\"text-align: right;\">\n",
       "      <th></th>\n",
       "      <th>order_id</th>\n",
       "      <th>user_id</th>\n",
       "      <th>eval_set</th>\n",
       "      <th>order_number</th>\n",
       "      <th>order_dow</th>\n",
       "      <th>order_hour_of_day</th>\n",
       "      <th>days_since_prior_order</th>\n",
       "      <th>Weekend?</th>\n",
       "      <th>days_to_last_order</th>\n",
       "      <th>hod_group</th>\n",
       "    </tr>\n",
       "  </thead>\n",
       "  <tbody>\n",
       "    <tr>\n",
       "      <th>0</th>\n",
       "      <td>1374495</td>\n",
       "      <td>3</td>\n",
       "      <td>prior</td>\n",
       "      <td>1</td>\n",
       "      <td>1</td>\n",
       "      <td>14</td>\n",
       "      <td>NaN</td>\n",
       "      <td>1</td>\n",
       "      <td>144.0</td>\n",
       "      <td>3</td>\n",
       "    </tr>\n",
       "    <tr>\n",
       "      <th>1</th>\n",
       "      <td>444309</td>\n",
       "      <td>3</td>\n",
       "      <td>prior</td>\n",
       "      <td>2</td>\n",
       "      <td>3</td>\n",
       "      <td>19</td>\n",
       "      <td>9.0</td>\n",
       "      <td>0</td>\n",
       "      <td>135.0</td>\n",
       "      <td>4</td>\n",
       "    </tr>\n",
       "    <tr>\n",
       "      <th>2</th>\n",
       "      <td>3002854</td>\n",
       "      <td>3</td>\n",
       "      <td>prior</td>\n",
       "      <td>3</td>\n",
       "      <td>3</td>\n",
       "      <td>16</td>\n",
       "      <td>21.0</td>\n",
       "      <td>0</td>\n",
       "      <td>114.0</td>\n",
       "      <td>4</td>\n",
       "    </tr>\n",
       "    <tr>\n",
       "      <th>3</th>\n",
       "      <td>2037211</td>\n",
       "      <td>3</td>\n",
       "      <td>prior</td>\n",
       "      <td>4</td>\n",
       "      <td>2</td>\n",
       "      <td>18</td>\n",
       "      <td>20.0</td>\n",
       "      <td>0</td>\n",
       "      <td>94.0</td>\n",
       "      <td>4</td>\n",
       "    </tr>\n",
       "    <tr>\n",
       "      <th>4</th>\n",
       "      <td>2710558</td>\n",
       "      <td>3</td>\n",
       "      <td>prior</td>\n",
       "      <td>5</td>\n",
       "      <td>0</td>\n",
       "      <td>17</td>\n",
       "      <td>12.0</td>\n",
       "      <td>1</td>\n",
       "      <td>82.0</td>\n",
       "      <td>4</td>\n",
       "    </tr>\n",
       "  </tbody>\n",
       "</table>\n",
       "</div>"
      ],
      "text/plain": [
       "   order_id  user_id eval_set  order_number  order_dow  order_hour_of_day  \\\n",
       "0   1374495        3    prior             1          1                 14   \n",
       "1    444309        3    prior             2          3                 19   \n",
       "2   3002854        3    prior             3          3                 16   \n",
       "3   2037211        3    prior             4          2                 18   \n",
       "4   2710558        3    prior             5          0                 17   \n",
       "\n",
       "   days_since_prior_order  Weekend?  days_to_last_order  hod_group  \n",
       "0                     NaN         1               144.0          3  \n",
       "1                     9.0         0               135.0          4  \n",
       "2                    21.0         0               114.0          4  \n",
       "3                    20.0         0                94.0          4  \n",
       "4                    12.0         1                82.0          4  "
      ]
     },
     "execution_count": 9,
     "metadata": {},
     "output_type": "execute_result"
    }
   ],
   "source": [
    "# build days_to_last_order\n",
    "dsfo = orders.groupby('user_id')['days_since_prior_order'].cumsum().fillna(0)\n",
    "orders['days_since_first_order'] = dsfo\n",
    "max_days = orders.groupby('user_id')['days_since_first_order'].agg({'max_days':'max'}).reset_index()\n",
    "orders = orders.merge(max_days, on = 'user_id', how = 'left')\n",
    "orders['days_to_last_order'] = orders['max_days'] - orders['days_since_first_order']\n",
    "orders['hod_group'] = (orders['order_hour_of_day'] / 4).astype('int')\n",
    "orders.drop(['days_since_first_order', 'max_days'], axis=1, inplace=True)\n",
    "del max_days\n",
    "print(len(orders))\n",
    "orders.head()"
   ]
  },
  {
   "cell_type": "code",
   "execution_count": 10,
   "metadata": {
    "collapsed": false
   },
   "outputs": [
    {
     "name": "stdout",
     "output_type": "stream",
     "text": [
      "(834419, 4)\n",
      "(834419, 6)\n"
     ]
    },
    {
     "data": {
      "text/html": [
       "<div>\n",
       "<table border=\"1\" class=\"dataframe\">\n",
       "  <thead>\n",
       "    <tr style=\"text-align: right;\">\n",
       "      <th></th>\n",
       "      <th>user_id</th>\n",
       "      <th>product_id</th>\n",
       "      <th>Times_Ordered</th>\n",
       "      <th>Repurchased</th>\n",
       "      <th>numberPriorOrders</th>\n",
       "      <th>frequency</th>\n",
       "    </tr>\n",
       "  </thead>\n",
       "  <tbody>\n",
       "    <tr>\n",
       "      <th>0</th>\n",
       "      <td>23</td>\n",
       "      <td>2138</td>\n",
       "      <td>1</td>\n",
       "      <td>0</td>\n",
       "      <td>4</td>\n",
       "      <td>0.25</td>\n",
       "    </tr>\n",
       "    <tr>\n",
       "      <th>1</th>\n",
       "      <td>23</td>\n",
       "      <td>3108</td>\n",
       "      <td>1</td>\n",
       "      <td>0</td>\n",
       "      <td>4</td>\n",
       "      <td>0.25</td>\n",
       "    </tr>\n",
       "    <tr>\n",
       "      <th>2</th>\n",
       "      <td>23</td>\n",
       "      <td>3243</td>\n",
       "      <td>1</td>\n",
       "      <td>0</td>\n",
       "      <td>4</td>\n",
       "      <td>0.25</td>\n",
       "    </tr>\n",
       "    <tr>\n",
       "      <th>3</th>\n",
       "      <td>23</td>\n",
       "      <td>3518</td>\n",
       "      <td>1</td>\n",
       "      <td>0</td>\n",
       "      <td>4</td>\n",
       "      <td>0.25</td>\n",
       "    </tr>\n",
       "    <tr>\n",
       "      <th>4</th>\n",
       "      <td>23</td>\n",
       "      <td>3873</td>\n",
       "      <td>1</td>\n",
       "      <td>0</td>\n",
       "      <td>4</td>\n",
       "      <td>0.25</td>\n",
       "    </tr>\n",
       "  </tbody>\n",
       "</table>\n",
       "</div>"
      ],
      "text/plain": [
       "   user_id  product_id  Times_Ordered  Repurchased  numberPriorOrders  \\\n",
       "0       23        2138              1            0                  4   \n",
       "1       23        3108              1            0                  4   \n",
       "2       23        3243              1            0                  4   \n",
       "3       23        3518              1            0                  4   \n",
       "4       23        3873              1            0                  4   \n",
       "\n",
       "   frequency  \n",
       "0       0.25  \n",
       "1       0.25  \n",
       "2       0.25  \n",
       "3       0.25  \n",
       "4       0.25  "
      ]
     },
     "execution_count": 10,
     "metadata": {},
     "output_type": "execute_result"
    }
   ],
   "source": [
    "# Create a merged table with user_id, product_id and times it has been ordered in all previous orders\n",
    "\n",
    "t1 = priors[[\"order_id\", \"product_id\"]]\n",
    "t2 = orders[orders[\"eval_set\"]==\"prior\"][[\"order_id\",\"user_id\"]]\n",
    "df = pd.merge(t1, t2, on=\"order_id\").drop(\"order_id\", 1)\n",
    "counts = pd.DataFrame({\"Times_Ordered\": df.groupby(by=[\"user_id\",\"product_id\"]).size()}).reset_index()\n",
    "\n",
    "# Select only users in train set\n",
    "# Do the same for the training set, showing all the single purchases\n",
    "t1 = train[[\"order_id\", \"product_id\"]]\n",
    "t2 = orders[orders[\"eval_set\"]==\"train\"][[\"order_id\",\"user_id\"]]\n",
    "df = pd.merge(t1, t2, on=\"order_id\").drop(\"order_id\", 1)\n",
    "\n",
    "# Aggregate data by orders.\n",
    "# Find out which products have been repurchased\n",
    "trainUsers = orders[orders[\"eval_set\"]==\"train\"][\"user_id\"]\n",
    "trainCounts = counts[counts[\"user_id\"].isin(trainUsers)]\n",
    "\n",
    "timesOrd_per_UsrXProd = pd.merge(trainCounts, df, on=[\"user_id\",\"product_id\"], how='left', indicator=\"Purchased\")\n",
    "timesOrd_per_UsrXProd[\"Repurchased\"] = np.where(timesOrd_per_UsrXProd.Purchased == \"both\", 1, 0)\n",
    "timesOrd_per_UsrXProd.drop(\"Purchased\", 1, inplace=True)\n",
    "\n",
    "print(timesOrd_per_UsrXProd.shape)\n",
    "\n",
    "# Add columns with historical frequency (number of times product has been bought divided by number of orders from user)\n",
    "ordersPerUser = orders[orders[\"eval_set\"]==\"train\"][[\"user_id\",\"order_number\"]]\n",
    "ordersPerUser[\"numberPriorOrders\"] = ordersPerUser[\"order_number\"]-1\n",
    "ordersPerUser.drop(\"order_number\", 1, inplace=True)\n",
    "\n",
    "timesOrd_per_UsrXProd = pd.merge(timesOrd_per_UsrXProd, ordersPerUser, how=\"left\", on=\"user_id\")\n",
    "timesOrd_per_UsrXProd[\"frequency\"] = timesOrd_per_UsrXProd[\"Times_Ordered\"]/timesOrd_per_UsrXProd[\"numberPriorOrders\"]\n",
    "\n",
    "del t1, t2, df, trainUsers, trainCounts\n",
    "\n",
    "\n",
    "print(timesOrd_per_UsrXProd.shape)\n",
    "timesOrd_per_UsrXProd.head()\n"
   ]
  },
  {
   "cell_type": "code",
   "execution_count": 11,
   "metadata": {
    "collapsed": false
   },
   "outputs": [
    {
     "data": {
      "text/html": [
       "<div>\n",
       "<table border=\"1\" class=\"dataframe\">\n",
       "  <thead>\n",
       "    <tr style=\"text-align: right;\">\n",
       "      <th></th>\n",
       "      <th>user_id</th>\n",
       "      <th>tot_orders</th>\n",
       "    </tr>\n",
       "  </thead>\n",
       "  <tbody>\n",
       "    <tr>\n",
       "      <th>12</th>\n",
       "      <td>3</td>\n",
       "      <td>13</td>\n",
       "    </tr>\n",
       "    <tr>\n",
       "      <th>18</th>\n",
       "      <td>4</td>\n",
       "      <td>6</td>\n",
       "    </tr>\n",
       "    <tr>\n",
       "      <th>22</th>\n",
       "      <td>6</td>\n",
       "      <td>4</td>\n",
       "    </tr>\n",
       "    <tr>\n",
       "      <th>30</th>\n",
       "      <td>11</td>\n",
       "      <td>8</td>\n",
       "    </tr>\n",
       "    <tr>\n",
       "      <th>36</th>\n",
       "      <td>12</td>\n",
       "      <td>6</td>\n",
       "    </tr>\n",
       "  </tbody>\n",
       "</table>\n",
       "</div>"
      ],
      "text/plain": [
       "    user_id  tot_orders\n",
       "12        3          13\n",
       "18        4           6\n",
       "22        6           4\n",
       "30       11           8\n",
       "36       12           6"
      ]
     },
     "execution_count": 11,
     "metadata": {},
     "output_type": "execute_result"
    }
   ],
   "source": [
    "# The order number in the train/test sets corresponds to the total number of orders in the prior set\n",
    "ordersPerUser = orders[orders[\"eval_set\"].isin([\"train\",\"test\"])][[\"user_id\",\"order_number\"]]\n",
    "ordersPerUser.rename(columns={\"order_number\":\"tot_orders\"}, inplace=True)\n",
    "ordersPerUser.head()"
   ]
  },
  {
   "cell_type": "code",
   "execution_count": 12,
   "metadata": {
    "collapsed": false
   },
   "outputs": [
    {
     "data": {
      "text/html": [
       "<div>\n",
       "<table border=\"1\" class=\"dataframe\">\n",
       "  <thead>\n",
       "    <tr style=\"text-align: right;\">\n",
       "      <th></th>\n",
       "      <th>order_id</th>\n",
       "      <th>product_id</th>\n",
       "      <th>add_to_cart_order</th>\n",
       "      <th>reordered</th>\n",
       "    </tr>\n",
       "  </thead>\n",
       "  <tbody>\n",
       "    <tr>\n",
       "      <th>0</th>\n",
       "      <td>7</td>\n",
       "      <td>34050</td>\n",
       "      <td>1</td>\n",
       "      <td>0</td>\n",
       "    </tr>\n",
       "    <tr>\n",
       "      <th>1</th>\n",
       "      <td>7</td>\n",
       "      <td>46802</td>\n",
       "      <td>2</td>\n",
       "      <td>0</td>\n",
       "    </tr>\n",
       "    <tr>\n",
       "      <th>2</th>\n",
       "      <td>13</td>\n",
       "      <td>17330</td>\n",
       "      <td>1</td>\n",
       "      <td>0</td>\n",
       "    </tr>\n",
       "    <tr>\n",
       "      <th>3</th>\n",
       "      <td>13</td>\n",
       "      <td>27407</td>\n",
       "      <td>2</td>\n",
       "      <td>0</td>\n",
       "    </tr>\n",
       "    <tr>\n",
       "      <th>4</th>\n",
       "      <td>13</td>\n",
       "      <td>35419</td>\n",
       "      <td>3</td>\n",
       "      <td>0</td>\n",
       "    </tr>\n",
       "  </tbody>\n",
       "</table>\n",
       "</div>"
      ],
      "text/plain": [
       "   order_id  product_id  add_to_cart_order  reordered\n",
       "0         7       34050                  1          0\n",
       "1         7       46802                  2          0\n",
       "2        13       17330                  1          0\n",
       "3        13       27407                  2          0\n",
       "4        13       35419                  3          0"
      ]
     },
     "execution_count": 12,
     "metadata": {},
     "output_type": "execute_result"
    }
   ],
   "source": [
    "priors.head()"
   ]
  },
  {
   "cell_type": "code",
   "execution_count": 13,
   "metadata": {
    "collapsed": false
   },
   "outputs": [
    {
     "data": {
      "text/html": [
       "<div>\n",
       "<table border=\"1\" class=\"dataframe\">\n",
       "  <thead>\n",
       "    <tr style=\"text-align: right;\">\n",
       "      <th></th>\n",
       "      <th>order_id</th>\n",
       "      <th>size_order</th>\n",
       "      <th>num_reordered</th>\n",
       "    </tr>\n",
       "  </thead>\n",
       "  <tbody>\n",
       "    <tr>\n",
       "      <th>0</th>\n",
       "      <td>7</td>\n",
       "      <td>2</td>\n",
       "      <td>0</td>\n",
       "    </tr>\n",
       "    <tr>\n",
       "      <th>1</th>\n",
       "      <td>13</td>\n",
       "      <td>13</td>\n",
       "      <td>0</td>\n",
       "    </tr>\n",
       "    <tr>\n",
       "      <th>2</th>\n",
       "      <td>15</td>\n",
       "      <td>5</td>\n",
       "      <td>5</td>\n",
       "    </tr>\n",
       "    <tr>\n",
       "      <th>3</th>\n",
       "      <td>16</td>\n",
       "      <td>3</td>\n",
       "      <td>1</td>\n",
       "    </tr>\n",
       "    <tr>\n",
       "      <th>4</th>\n",
       "      <td>18</td>\n",
       "      <td>28</td>\n",
       "      <td>10</td>\n",
       "    </tr>\n",
       "  </tbody>\n",
       "</table>\n",
       "</div>"
      ],
      "text/plain": [
       "   order_id  size_order  num_reordered\n",
       "0         7           2              0\n",
       "1        13          13              0\n",
       "2        15           5              5\n",
       "3        16           3              1\n",
       "4        18          28             10"
      ]
     },
     "execution_count": 13,
     "metadata": {},
     "output_type": "execute_result"
    }
   ],
   "source": [
    "order_sizes = priors.groupby(['order_id']).size().to_frame('size_order').reset_index()\n",
    "order_sizes['num_reordered'] = priors['reordered'].groupby(priors['order_id']).sum().reset_index()['reordered']\n",
    "order_sizes.head()"
   ]
  },
  {
   "cell_type": "markdown",
   "metadata": {},
   "source": [
    "### Combine Priors With Order Data"
   ]
  },
  {
   "cell_type": "code",
   "execution_count": 14,
   "metadata": {
    "collapsed": false
   },
   "outputs": [
    {
     "data": {
      "text/html": [
       "<div>\n",
       "<table border=\"1\" class=\"dataframe\">\n",
       "  <thead>\n",
       "    <tr style=\"text-align: right;\">\n",
       "      <th></th>\n",
       "      <th>order_id</th>\n",
       "      <th>product_id</th>\n",
       "      <th>add_to_cart_order</th>\n",
       "      <th>reordered</th>\n",
       "      <th>user_id</th>\n",
       "      <th>eval_set</th>\n",
       "      <th>order_number</th>\n",
       "      <th>order_dow</th>\n",
       "      <th>order_hour_of_day</th>\n",
       "      <th>days_since_prior_order</th>\n",
       "      <th>Weekend?</th>\n",
       "      <th>days_to_last_order</th>\n",
       "      <th>hod_group</th>\n",
       "    </tr>\n",
       "  </thead>\n",
       "  <tbody>\n",
       "    <tr>\n",
       "      <th>0</th>\n",
       "      <td>7</td>\n",
       "      <td>34050</td>\n",
       "      <td>1</td>\n",
       "      <td>0</td>\n",
       "      <td>142903</td>\n",
       "      <td>prior</td>\n",
       "      <td>11</td>\n",
       "      <td>2</td>\n",
       "      <td>14</td>\n",
       "      <td>30.0</td>\n",
       "      <td>0</td>\n",
       "      <td>24.0</td>\n",
       "      <td>3</td>\n",
       "    </tr>\n",
       "    <tr>\n",
       "      <th>1</th>\n",
       "      <td>7</td>\n",
       "      <td>46802</td>\n",
       "      <td>2</td>\n",
       "      <td>0</td>\n",
       "      <td>142903</td>\n",
       "      <td>prior</td>\n",
       "      <td>11</td>\n",
       "      <td>2</td>\n",
       "      <td>14</td>\n",
       "      <td>30.0</td>\n",
       "      <td>0</td>\n",
       "      <td>24.0</td>\n",
       "      <td>3</td>\n",
       "    </tr>\n",
       "    <tr>\n",
       "      <th>2</th>\n",
       "      <td>13</td>\n",
       "      <td>17330</td>\n",
       "      <td>1</td>\n",
       "      <td>0</td>\n",
       "      <td>45082</td>\n",
       "      <td>prior</td>\n",
       "      <td>2</td>\n",
       "      <td>6</td>\n",
       "      <td>17</td>\n",
       "      <td>1.0</td>\n",
       "      <td>0</td>\n",
       "      <td>82.0</td>\n",
       "      <td>4</td>\n",
       "    </tr>\n",
       "    <tr>\n",
       "      <th>3</th>\n",
       "      <td>13</td>\n",
       "      <td>27407</td>\n",
       "      <td>2</td>\n",
       "      <td>0</td>\n",
       "      <td>45082</td>\n",
       "      <td>prior</td>\n",
       "      <td>2</td>\n",
       "      <td>6</td>\n",
       "      <td>17</td>\n",
       "      <td>1.0</td>\n",
       "      <td>0</td>\n",
       "      <td>82.0</td>\n",
       "      <td>4</td>\n",
       "    </tr>\n",
       "    <tr>\n",
       "      <th>4</th>\n",
       "      <td>13</td>\n",
       "      <td>35419</td>\n",
       "      <td>3</td>\n",
       "      <td>0</td>\n",
       "      <td>45082</td>\n",
       "      <td>prior</td>\n",
       "      <td>2</td>\n",
       "      <td>6</td>\n",
       "      <td>17</td>\n",
       "      <td>1.0</td>\n",
       "      <td>0</td>\n",
       "      <td>82.0</td>\n",
       "      <td>4</td>\n",
       "    </tr>\n",
       "  </tbody>\n",
       "</table>\n",
       "</div>"
      ],
      "text/plain": [
       "   order_id  product_id  add_to_cart_order  reordered  user_id eval_set  \\\n",
       "0         7       34050                  1          0   142903    prior   \n",
       "1         7       46802                  2          0   142903    prior   \n",
       "2        13       17330                  1          0    45082    prior   \n",
       "3        13       27407                  2          0    45082    prior   \n",
       "4        13       35419                  3          0    45082    prior   \n",
       "\n",
       "   order_number  order_dow  order_hour_of_day  days_since_prior_order  \\\n",
       "0            11          2                 14                    30.0   \n",
       "1            11          2                 14                    30.0   \n",
       "2             2          6                 17                     1.0   \n",
       "3             2          6                 17                     1.0   \n",
       "4             2          6                 17                     1.0   \n",
       "\n",
       "   Weekend?  days_to_last_order  hod_group  \n",
       "0         0                24.0          3  \n",
       "1         0                24.0          3  \n",
       "2         0                82.0          4  \n",
       "3         0                82.0          4  \n",
       "4         0                82.0          4  "
      ]
     },
     "execution_count": 14,
     "metadata": {},
     "output_type": "execute_result"
    }
   ],
   "source": [
    "priors = pd.merge(priors, orders, on='order_id')\n",
    "priors.head()"
   ]
  },
  {
   "cell_type": "code",
   "execution_count": 15,
   "metadata": {
    "collapsed": false
   },
   "outputs": [
    {
     "data": {
      "text/plain": [
       "13827423"
      ]
     },
     "execution_count": 15,
     "metadata": {},
     "output_type": "execute_result"
    }
   ],
   "source": [
    "len(priors)"
   ]
  },
  {
   "cell_type": "markdown",
   "metadata": {},
   "source": [
    "### General Product Features"
   ]
  },
  {
   "cell_type": "code",
   "execution_count": 16,
   "metadata": {
    "collapsed": false
   },
   "outputs": [
    {
     "data": {
      "text/html": [
       "<div>\n",
       "<table border=\"1\" class=\"dataframe\">\n",
       "  <thead>\n",
       "    <tr style=\"text-align: right;\">\n",
       "      <th></th>\n",
       "      <th>product_id</th>\n",
       "      <th>prod_orders</th>\n",
       "      <th>prod_reorder_probability</th>\n",
       "      <th>prod_reorder_times</th>\n",
       "      <th>prod_reorder_ratio</th>\n",
       "    </tr>\n",
       "  </thead>\n",
       "  <tbody>\n",
       "    <tr>\n",
       "      <th>0</th>\n",
       "      <td>1</td>\n",
       "      <td>867</td>\n",
       "      <td>0.385580</td>\n",
       "      <td>2.717868</td>\n",
       "      <td>0.632065</td>\n",
       "    </tr>\n",
       "    <tr>\n",
       "      <th>1</th>\n",
       "      <td>2</td>\n",
       "      <td>36</td>\n",
       "      <td>0.058824</td>\n",
       "      <td>1.058824</td>\n",
       "      <td>0.055556</td>\n",
       "    </tr>\n",
       "    <tr>\n",
       "      <th>2</th>\n",
       "      <td>3</td>\n",
       "      <td>130</td>\n",
       "      <td>0.483871</td>\n",
       "      <td>4.193548</td>\n",
       "      <td>0.761538</td>\n",
       "    </tr>\n",
       "    <tr>\n",
       "      <th>3</th>\n",
       "      <td>4</td>\n",
       "      <td>137</td>\n",
       "      <td>0.384615</td>\n",
       "      <td>1.756410</td>\n",
       "      <td>0.430657</td>\n",
       "    </tr>\n",
       "    <tr>\n",
       "      <th>4</th>\n",
       "      <td>5</td>\n",
       "      <td>4</td>\n",
       "      <td>0.333333</td>\n",
       "      <td>1.333333</td>\n",
       "      <td>0.250000</td>\n",
       "    </tr>\n",
       "  </tbody>\n",
       "</table>\n",
       "</div>"
      ],
      "text/plain": [
       "   product_id  prod_orders  prod_reorder_probability  prod_reorder_times  \\\n",
       "0           1          867                  0.385580            2.717868   \n",
       "1           2           36                  0.058824            1.058824   \n",
       "2           3          130                  0.483871            4.193548   \n",
       "3           4          137                  0.384615            1.756410   \n",
       "4           5            4                  0.333333            1.333333   \n",
       "\n",
       "   prod_reorder_ratio  \n",
       "0            0.632065  \n",
       "1            0.055556  \n",
       "2            0.761538  \n",
       "3            0.430657  \n",
       "4            0.250000  "
      ]
     },
     "execution_count": 16,
     "metadata": {},
     "output_type": "execute_result"
    }
   ],
   "source": [
    "prior_sort = priors.sort_values(['user_id', 'order_number', 'product_id'], ascending=True)\n",
    "prior_sort = prior_sort.assign(product_time = prior_sort.groupby(['user_id', 'product_id']).cumcount()+1)\n",
    "\n",
    "sub1 = prior_sort[prior_sort['product_time'] == 1].groupby('product_id').size().to_frame('prod_first_orders')\n",
    "sub2 = prior_sort[prior_sort['product_time'] == 2].groupby('product_id').size().to_frame('prod_second_orders')\n",
    "\n",
    "sub1['prod_orders'] = prior_sort.groupby('product_id')['product_id'].size()\n",
    "sub1['prod_reorders'] = prior_sort.groupby('product_id')['reordered'].sum()\n",
    "sub2 = sub2.reset_index().merge(sub1.reset_index())\n",
    "\n",
    "# calculating reorder probability and ratio for the product\n",
    "sub2['prod_reorder_probability'] = sub2['prod_second_orders']/sub2['prod_first_orders']\n",
    "sub2['prod_reorder_times'] = 1 + sub2['prod_reorders']/sub2['prod_first_orders']\n",
    "sub2['prod_reorder_ratio'] = sub2['prod_reorders']/sub2['prod_orders']\n",
    "prd = sub2[['product_id', 'prod_orders','prod_reorder_probability', 'prod_reorder_times', 'prod_reorder_ratio']]\n",
    "\n",
    "del sub1, sub2, prior_sort\n",
    "\n",
    "prd.head()"
   ]
  },
  {
   "cell_type": "code",
   "execution_count": null,
   "metadata": {
    "collapsed": true
   },
   "outputs": [],
   "source": []
  },
  {
   "cell_type": "code",
   "execution_count": 17,
   "metadata": {
    "collapsed": false
   },
   "outputs": [
    {
     "data": {
      "text/html": [
       "<div>\n",
       "<table border=\"1\" class=\"dataframe\">\n",
       "  <thead>\n",
       "    <tr style=\"text-align: right;\">\n",
       "      <th></th>\n",
       "      <th>product_id</th>\n",
       "      <th>product_name</th>\n",
       "      <th>aisle_id</th>\n",
       "      <th>department_id</th>\n",
       "      <th>prod_orders</th>\n",
       "      <th>prod_reorder_probability</th>\n",
       "      <th>prod_reorder_times</th>\n",
       "      <th>prod_reorder_ratio</th>\n",
       "    </tr>\n",
       "  </thead>\n",
       "  <tbody>\n",
       "    <tr>\n",
       "      <th>0</th>\n",
       "      <td>1</td>\n",
       "      <td>Chocolate Sandwich Cookies</td>\n",
       "      <td>61</td>\n",
       "      <td>19</td>\n",
       "      <td>867</td>\n",
       "      <td>0.385580</td>\n",
       "      <td>2.717868</td>\n",
       "      <td>0.632065</td>\n",
       "    </tr>\n",
       "    <tr>\n",
       "      <th>1</th>\n",
       "      <td>2</td>\n",
       "      <td>All-Seasons Salt</td>\n",
       "      <td>104</td>\n",
       "      <td>13</td>\n",
       "      <td>36</td>\n",
       "      <td>0.058824</td>\n",
       "      <td>1.058824</td>\n",
       "      <td>0.055556</td>\n",
       "    </tr>\n",
       "    <tr>\n",
       "      <th>2</th>\n",
       "      <td>3</td>\n",
       "      <td>Robust Golden Unsweetened Oolong Tea</td>\n",
       "      <td>94</td>\n",
       "      <td>7</td>\n",
       "      <td>130</td>\n",
       "      <td>0.483871</td>\n",
       "      <td>4.193548</td>\n",
       "      <td>0.761538</td>\n",
       "    </tr>\n",
       "    <tr>\n",
       "      <th>3</th>\n",
       "      <td>4</td>\n",
       "      <td>Smart Ones Classic Favorites Mini Rigatoni Wit...</td>\n",
       "      <td>38</td>\n",
       "      <td>1</td>\n",
       "      <td>137</td>\n",
       "      <td>0.384615</td>\n",
       "      <td>1.756410</td>\n",
       "      <td>0.430657</td>\n",
       "    </tr>\n",
       "    <tr>\n",
       "      <th>4</th>\n",
       "      <td>5</td>\n",
       "      <td>Green Chile Anytime Sauce</td>\n",
       "      <td>5</td>\n",
       "      <td>13</td>\n",
       "      <td>4</td>\n",
       "      <td>0.333333</td>\n",
       "      <td>1.333333</td>\n",
       "      <td>0.250000</td>\n",
       "    </tr>\n",
       "  </tbody>\n",
       "</table>\n",
       "</div>"
      ],
      "text/plain": [
       "   product_id                                       product_name  aisle_id  \\\n",
       "0           1                         Chocolate Sandwich Cookies        61   \n",
       "1           2                                   All-Seasons Salt       104   \n",
       "2           3               Robust Golden Unsweetened Oolong Tea        94   \n",
       "3           4  Smart Ones Classic Favorites Mini Rigatoni Wit...        38   \n",
       "4           5                          Green Chile Anytime Sauce         5   \n",
       "\n",
       "   department_id  prod_orders  prod_reorder_probability  prod_reorder_times  \\\n",
       "0             19          867                  0.385580            2.717868   \n",
       "1             13           36                  0.058824            1.058824   \n",
       "2              7          130                  0.483871            4.193548   \n",
       "3              1          137                  0.384615            1.756410   \n",
       "4             13            4                  0.333333            1.333333   \n",
       "\n",
       "   prod_reorder_ratio  \n",
       "0            0.632065  \n",
       "1            0.055556  \n",
       "2            0.761538  \n",
       "3            0.430657  \n",
       "4            0.250000  "
      ]
     },
     "execution_count": 17,
     "metadata": {},
     "output_type": "execute_result"
    }
   ],
   "source": [
    "products = pd.merge(products, prd, on='product_id')\n",
    "products.head()"
   ]
  },
  {
   "cell_type": "markdown",
   "metadata": {},
   "source": [
    "### Get Order Sizes and Create Cart Priority\n",
    "\n",
    "Convert Add to Cart Order feature to a proportion of the total cart size"
   ]
  },
  {
   "cell_type": "code",
   "execution_count": 18,
   "metadata": {
    "collapsed": false
   },
   "outputs": [
    {
     "data": {
      "text/html": [
       "<div>\n",
       "<table border=\"1\" class=\"dataframe\">\n",
       "  <thead>\n",
       "    <tr style=\"text-align: right;\">\n",
       "      <th></th>\n",
       "      <th>order_id</th>\n",
       "      <th>product_id</th>\n",
       "      <th>add_to_cart_order</th>\n",
       "      <th>reordered</th>\n",
       "      <th>user_id</th>\n",
       "      <th>eval_set</th>\n",
       "      <th>order_number</th>\n",
       "      <th>order_dow</th>\n",
       "      <th>order_hour_of_day</th>\n",
       "      <th>days_since_prior_order</th>\n",
       "      <th>Weekend?</th>\n",
       "      <th>days_to_last_order</th>\n",
       "      <th>hod_group</th>\n",
       "      <th>size_order</th>\n",
       "      <th>num_reordered</th>\n",
       "      <th>cart_priority</th>\n",
       "    </tr>\n",
       "  </thead>\n",
       "  <tbody>\n",
       "    <tr>\n",
       "      <th>0</th>\n",
       "      <td>7</td>\n",
       "      <td>34050</td>\n",
       "      <td>1</td>\n",
       "      <td>0</td>\n",
       "      <td>142903</td>\n",
       "      <td>prior</td>\n",
       "      <td>11</td>\n",
       "      <td>2</td>\n",
       "      <td>14</td>\n",
       "      <td>30.0</td>\n",
       "      <td>0</td>\n",
       "      <td>24.0</td>\n",
       "      <td>3</td>\n",
       "      <td>2</td>\n",
       "      <td>0</td>\n",
       "      <td>0.666667</td>\n",
       "    </tr>\n",
       "    <tr>\n",
       "      <th>1</th>\n",
       "      <td>7</td>\n",
       "      <td>46802</td>\n",
       "      <td>2</td>\n",
       "      <td>0</td>\n",
       "      <td>142903</td>\n",
       "      <td>prior</td>\n",
       "      <td>11</td>\n",
       "      <td>2</td>\n",
       "      <td>14</td>\n",
       "      <td>30.0</td>\n",
       "      <td>0</td>\n",
       "      <td>24.0</td>\n",
       "      <td>3</td>\n",
       "      <td>2</td>\n",
       "      <td>0</td>\n",
       "      <td>0.333333</td>\n",
       "    </tr>\n",
       "    <tr>\n",
       "      <th>2</th>\n",
       "      <td>13</td>\n",
       "      <td>17330</td>\n",
       "      <td>1</td>\n",
       "      <td>0</td>\n",
       "      <td>45082</td>\n",
       "      <td>prior</td>\n",
       "      <td>2</td>\n",
       "      <td>6</td>\n",
       "      <td>17</td>\n",
       "      <td>1.0</td>\n",
       "      <td>0</td>\n",
       "      <td>82.0</td>\n",
       "      <td>4</td>\n",
       "      <td>13</td>\n",
       "      <td>0</td>\n",
       "      <td>0.928571</td>\n",
       "    </tr>\n",
       "    <tr>\n",
       "      <th>3</th>\n",
       "      <td>13</td>\n",
       "      <td>27407</td>\n",
       "      <td>2</td>\n",
       "      <td>0</td>\n",
       "      <td>45082</td>\n",
       "      <td>prior</td>\n",
       "      <td>2</td>\n",
       "      <td>6</td>\n",
       "      <td>17</td>\n",
       "      <td>1.0</td>\n",
       "      <td>0</td>\n",
       "      <td>82.0</td>\n",
       "      <td>4</td>\n",
       "      <td>13</td>\n",
       "      <td>0</td>\n",
       "      <td>0.857143</td>\n",
       "    </tr>\n",
       "    <tr>\n",
       "      <th>4</th>\n",
       "      <td>13</td>\n",
       "      <td>35419</td>\n",
       "      <td>3</td>\n",
       "      <td>0</td>\n",
       "      <td>45082</td>\n",
       "      <td>prior</td>\n",
       "      <td>2</td>\n",
       "      <td>6</td>\n",
       "      <td>17</td>\n",
       "      <td>1.0</td>\n",
       "      <td>0</td>\n",
       "      <td>82.0</td>\n",
       "      <td>4</td>\n",
       "      <td>13</td>\n",
       "      <td>0</td>\n",
       "      <td>0.785714</td>\n",
       "    </tr>\n",
       "  </tbody>\n",
       "</table>\n",
       "</div>"
      ],
      "text/plain": [
       "   order_id  product_id  add_to_cart_order  reordered  user_id eval_set  \\\n",
       "0         7       34050                  1          0   142903    prior   \n",
       "1         7       46802                  2          0   142903    prior   \n",
       "2        13       17330                  1          0    45082    prior   \n",
       "3        13       27407                  2          0    45082    prior   \n",
       "4        13       35419                  3          0    45082    prior   \n",
       "\n",
       "   order_number  order_dow  order_hour_of_day  days_since_prior_order  \\\n",
       "0            11          2                 14                    30.0   \n",
       "1            11          2                 14                    30.0   \n",
       "2             2          6                 17                     1.0   \n",
       "3             2          6                 17                     1.0   \n",
       "4             2          6                 17                     1.0   \n",
       "\n",
       "   Weekend?  days_to_last_order  hod_group  size_order  num_reordered  \\\n",
       "0         0                24.0          3           2              0   \n",
       "1         0                24.0          3           2              0   \n",
       "2         0                82.0          4          13              0   \n",
       "3         0                82.0          4          13              0   \n",
       "4         0                82.0          4          13              0   \n",
       "\n",
       "   cart_priority  \n",
       "0       0.666667  \n",
       "1       0.333333  \n",
       "2       0.928571  \n",
       "3       0.857143  \n",
       "4       0.785714  "
      ]
     },
     "execution_count": 18,
     "metadata": {},
     "output_type": "execute_result"
    }
   ],
   "source": [
    "df = pd.merge(priors, order_sizes, on='order_id')\n",
    "df['cart_priority'] = 1 - df['add_to_cart_order']/(df['size_order']+1)\n",
    "\n",
    "del order_sizes\n",
    "\n",
    "df.head()"
   ]
  },
  {
   "cell_type": "code",
   "execution_count": 19,
   "metadata": {
    "collapsed": false
   },
   "outputs": [
    {
     "data": {
      "text/html": [
       "<div>\n",
       "<table border=\"1\" class=\"dataframe\">\n",
       "  <thead>\n",
       "    <tr style=\"text-align: right;\">\n",
       "      <th></th>\n",
       "      <th>user_id</th>\n",
       "      <th>avg_order_size</th>\n",
       "      <th>avg_n_reordered</th>\n",
       "    </tr>\n",
       "  </thead>\n",
       "  <tbody>\n",
       "    <tr>\n",
       "      <th>0</th>\n",
       "      <td>3</td>\n",
       "      <td>7.886364</td>\n",
       "      <td>4.659091</td>\n",
       "    </tr>\n",
       "    <tr>\n",
       "      <th>1</th>\n",
       "      <td>4</td>\n",
       "      <td>4.555556</td>\n",
       "      <td>0.388889</td>\n",
       "    </tr>\n",
       "    <tr>\n",
       "      <th>2</th>\n",
       "      <td>6</td>\n",
       "      <td>5.285714</td>\n",
       "      <td>1.000000</td>\n",
       "    </tr>\n",
       "    <tr>\n",
       "      <th>3</th>\n",
       "      <td>11</td>\n",
       "      <td>13.808511</td>\n",
       "      <td>4.957447</td>\n",
       "    </tr>\n",
       "    <tr>\n",
       "      <th>4</th>\n",
       "      <td>12</td>\n",
       "      <td>17.918919</td>\n",
       "      <td>3.324324</td>\n",
       "    </tr>\n",
       "  </tbody>\n",
       "</table>\n",
       "</div>"
      ],
      "text/plain": [
       "   user_id  avg_order_size  avg_n_reordered\n",
       "0        3        7.886364         4.659091\n",
       "1        4        4.555556         0.388889\n",
       "2        6        5.285714         1.000000\n",
       "3       11       13.808511         4.957447\n",
       "4       12       17.918919         3.324324"
      ]
     },
     "execution_count": 19,
     "metadata": {},
     "output_type": "execute_result"
    }
   ],
   "source": [
    "avg_sizes = df[['user_id','size_order','num_reordered']].groupby(['user_id']).mean().reset_index()\n",
    "avg_sizes.rename(columns={\"size_order\":\"avg_order_size\", \"num_reordered\":\"avg_n_reordered\"}, inplace=True)\n",
    "avg_sizes.head()"
   ]
  },
  {
   "cell_type": "code",
   "execution_count": 20,
   "metadata": {
    "collapsed": false
   },
   "outputs": [
    {
     "data": {
      "text/html": [
       "<div>\n",
       "<table border=\"1\" class=\"dataframe\">\n",
       "  <thead>\n",
       "    <tr style=\"text-align: right;\">\n",
       "      <th></th>\n",
       "      <th>user_id</th>\n",
       "      <th>product_id</th>\n",
       "      <th>avg_cart_priority</th>\n",
       "      <th>times_ord</th>\n",
       "      <th>avg_order_size</th>\n",
       "      <th>avg_n_reordered</th>\n",
       "    </tr>\n",
       "  </thead>\n",
       "  <tbody>\n",
       "    <tr>\n",
       "      <th>0</th>\n",
       "      <td>3</td>\n",
       "      <td>248</td>\n",
       "      <td>0.700000</td>\n",
       "      <td>1</td>\n",
       "      <td>7.886364</td>\n",
       "      <td>4.659091</td>\n",
       "    </tr>\n",
       "    <tr>\n",
       "      <th>1</th>\n",
       "      <td>3</td>\n",
       "      <td>1005</td>\n",
       "      <td>0.285714</td>\n",
       "      <td>1</td>\n",
       "      <td>7.886364</td>\n",
       "      <td>4.659091</td>\n",
       "    </tr>\n",
       "    <tr>\n",
       "      <th>2</th>\n",
       "      <td>3</td>\n",
       "      <td>1819</td>\n",
       "      <td>0.692593</td>\n",
       "      <td>3</td>\n",
       "      <td>7.886364</td>\n",
       "      <td>4.659091</td>\n",
       "    </tr>\n",
       "    <tr>\n",
       "      <th>3</th>\n",
       "      <td>3</td>\n",
       "      <td>7503</td>\n",
       "      <td>0.142857</td>\n",
       "      <td>1</td>\n",
       "      <td>7.886364</td>\n",
       "      <td>4.659091</td>\n",
       "    </tr>\n",
       "    <tr>\n",
       "      <th>4</th>\n",
       "      <td>3</td>\n",
       "      <td>8021</td>\n",
       "      <td>0.500000</td>\n",
       "      <td>1</td>\n",
       "      <td>7.886364</td>\n",
       "      <td>4.659091</td>\n",
       "    </tr>\n",
       "  </tbody>\n",
       "</table>\n",
       "</div>"
      ],
      "text/plain": [
       "   user_id  product_id  avg_cart_priority  times_ord  avg_order_size  \\\n",
       "0        3         248           0.700000          1        7.886364   \n",
       "1        3        1005           0.285714          1        7.886364   \n",
       "2        3        1819           0.692593          3        7.886364   \n",
       "3        3        7503           0.142857          1        7.886364   \n",
       "4        3        8021           0.500000          1        7.886364   \n",
       "\n",
       "   avg_n_reordered  \n",
       "0         4.659091  \n",
       "1         4.659091  \n",
       "2         4.659091  \n",
       "3         4.659091  \n",
       "4         4.659091  "
      ]
     },
     "execution_count": 20,
     "metadata": {},
     "output_type": "execute_result"
    }
   ],
   "source": [
    "timesOrdered = df.groupby(['user_id','product_id']).agg({'count','mean'})['cart_priority'].reset_index()\n",
    "timesOrdered.rename(columns={\"mean\":\"avg_cart_priority\", \"count\":\"times_ord\"}, inplace=True)\n",
    "timesOrdered = pd.merge(timesOrdered, avg_sizes, on='user_id')\n",
    "df.drop(['cart_priority'], 1, inplace=True)\n",
    "\n",
    "del avg_sizes\n",
    "\n",
    "timesOrdered.head()"
   ]
  },
  {
   "cell_type": "code",
   "execution_count": 21,
   "metadata": {
    "collapsed": true
   },
   "outputs": [],
   "source": [
    "df = pd.merge(df, timesOrdered, on=[\"user_id\",\"product_id\"])\n",
    "df = pd.merge(df, usr, on=['user_id'])\n",
    "df = pd.merge(df, ordersPerUser, on=[\"user_id\"])\n",
    "df = pd.merge(df, products.drop('product_name',1), on=\"product_id\")\n",
    "\n",
    "del timesOrdered, usr, ordersPerUser"
   ]
  },
  {
   "cell_type": "code",
   "execution_count": 22,
   "metadata": {
    "collapsed": false
   },
   "outputs": [
    {
     "data": {
      "text/plain": [
       "29"
      ]
     },
     "execution_count": 22,
     "metadata": {},
     "output_type": "execute_result"
    }
   ],
   "source": [
    "len(df.columns)"
   ]
  },
  {
   "cell_type": "code",
   "execution_count": 23,
   "metadata": {
    "collapsed": false
   },
   "outputs": [
    {
     "data": {
      "text/html": [
       "<div>\n",
       "<table border=\"1\" class=\"dataframe\">\n",
       "  <thead>\n",
       "    <tr style=\"text-align: right;\">\n",
       "      <th></th>\n",
       "      <th>order_id</th>\n",
       "      <th>product_id</th>\n",
       "      <th>add_to_cart_order</th>\n",
       "      <th>reordered</th>\n",
       "      <th>user_id</th>\n",
       "      <th>order_number</th>\n",
       "      <th>order_dow</th>\n",
       "      <th>order_hour_of_day</th>\n",
       "      <th>days_since_prior_order</th>\n",
       "      <th>Weekend?</th>\n",
       "      <th>...</th>\n",
       "      <th>aisle_id</th>\n",
       "      <th>department_id</th>\n",
       "      <th>prod_orders</th>\n",
       "      <th>prod_reorder_probability</th>\n",
       "      <th>prod_reorder_times</th>\n",
       "      <th>prod_reorder_ratio</th>\n",
       "      <th>log_freq</th>\n",
       "      <th>hod_delta</th>\n",
       "      <th>dow_delta</th>\n",
       "      <th>orders_since_last</th>\n",
       "    </tr>\n",
       "  </thead>\n",
       "  <tbody>\n",
       "    <tr>\n",
       "      <th>0</th>\n",
       "      <td>7</td>\n",
       "      <td>34050</td>\n",
       "      <td>1</td>\n",
       "      <td>0</td>\n",
       "      <td>142903</td>\n",
       "      <td>11</td>\n",
       "      <td>2</td>\n",
       "      <td>14</td>\n",
       "      <td>30.0</td>\n",
       "      <td>0</td>\n",
       "      <td>...</td>\n",
       "      <td>31</td>\n",
       "      <td>7</td>\n",
       "      <td>7012</td>\n",
       "      <td>0.517653</td>\n",
       "      <td>3.640706</td>\n",
       "      <td>0.725328</td>\n",
       "      <td>-2.564949</td>\n",
       "      <td>0.711538</td>\n",
       "      <td>0.153846</td>\n",
       "      <td>2</td>\n",
       "    </tr>\n",
       "    <tr>\n",
       "      <th>1</th>\n",
       "      <td>1418511</td>\n",
       "      <td>34050</td>\n",
       "      <td>11</td>\n",
       "      <td>0</td>\n",
       "      <td>189157</td>\n",
       "      <td>6</td>\n",
       "      <td>4</td>\n",
       "      <td>14</td>\n",
       "      <td>24.0</td>\n",
       "      <td>0</td>\n",
       "      <td>...</td>\n",
       "      <td>31</td>\n",
       "      <td>7</td>\n",
       "      <td>7012</td>\n",
       "      <td>0.517653</td>\n",
       "      <td>3.640706</td>\n",
       "      <td>0.725328</td>\n",
       "      <td>-2.079442</td>\n",
       "      <td>0.312500</td>\n",
       "      <td>-1.875000</td>\n",
       "      <td>2</td>\n",
       "    </tr>\n",
       "    <tr>\n",
       "      <th>2</th>\n",
       "      <td>441427</td>\n",
       "      <td>34050</td>\n",
       "      <td>7</td>\n",
       "      <td>1</td>\n",
       "      <td>32953</td>\n",
       "      <td>38</td>\n",
       "      <td>2</td>\n",
       "      <td>14</td>\n",
       "      <td>14.0</td>\n",
       "      <td>0</td>\n",
       "      <td>...</td>\n",
       "      <td>31</td>\n",
       "      <td>7</td>\n",
       "      <td>7012</td>\n",
       "      <td>0.517653</td>\n",
       "      <td>3.640706</td>\n",
       "      <td>0.725328</td>\n",
       "      <td>-2.730029</td>\n",
       "      <td>0.967391</td>\n",
       "      <td>-0.608696</td>\n",
       "      <td>8</td>\n",
       "    </tr>\n",
       "    <tr>\n",
       "      <th>3</th>\n",
       "      <td>598458</td>\n",
       "      <td>34050</td>\n",
       "      <td>2</td>\n",
       "      <td>1</td>\n",
       "      <td>32953</td>\n",
       "      <td>39</td>\n",
       "      <td>2</td>\n",
       "      <td>20</td>\n",
       "      <td>7.0</td>\n",
       "      <td>0</td>\n",
       "      <td>...</td>\n",
       "      <td>31</td>\n",
       "      <td>7</td>\n",
       "      <td>7012</td>\n",
       "      <td>0.517653</td>\n",
       "      <td>3.640706</td>\n",
       "      <td>0.725328</td>\n",
       "      <td>-2.730029</td>\n",
       "      <td>-1.032609</td>\n",
       "      <td>-0.608696</td>\n",
       "      <td>7</td>\n",
       "    </tr>\n",
       "    <tr>\n",
       "      <th>4</th>\n",
       "      <td>698422</td>\n",
       "      <td>34050</td>\n",
       "      <td>21</td>\n",
       "      <td>0</td>\n",
       "      <td>32953</td>\n",
       "      <td>24</td>\n",
       "      <td>0</td>\n",
       "      <td>20</td>\n",
       "      <td>6.0</td>\n",
       "      <td>1</td>\n",
       "      <td>...</td>\n",
       "      <td>31</td>\n",
       "      <td>7</td>\n",
       "      <td>7012</td>\n",
       "      <td>0.517653</td>\n",
       "      <td>3.640706</td>\n",
       "      <td>0.725328</td>\n",
       "      <td>-2.730029</td>\n",
       "      <td>-1.032609</td>\n",
       "      <td>1.391304</td>\n",
       "      <td>22</td>\n",
       "    </tr>\n",
       "  </tbody>\n",
       "</table>\n",
       "<p>5 rows × 32 columns</p>\n",
       "</div>"
      ],
      "text/plain": [
       "   order_id  product_id  add_to_cart_order  reordered  user_id  order_number  \\\n",
       "0         7       34050                  1          0   142903            11   \n",
       "1   1418511       34050                 11          0   189157             6   \n",
       "2    441427       34050                  7          1    32953            38   \n",
       "3    598458       34050                  2          1    32953            39   \n",
       "4    698422       34050                 21          0    32953            24   \n",
       "\n",
       "   order_dow  order_hour_of_day  days_since_prior_order  Weekend?  \\\n",
       "0          2                 14                    30.0         0   \n",
       "1          4                 14                    24.0         0   \n",
       "2          2                 14                    14.0         0   \n",
       "3          2                 20                     7.0         0   \n",
       "4          0                 20                     6.0         1   \n",
       "\n",
       "         ...          aisle_id  department_id  prod_orders  \\\n",
       "0        ...                31              7         7012   \n",
       "1        ...                31              7         7012   \n",
       "2        ...                31              7         7012   \n",
       "3        ...                31              7         7012   \n",
       "4        ...                31              7         7012   \n",
       "\n",
       "   prod_reorder_probability  prod_reorder_times  prod_reorder_ratio  log_freq  \\\n",
       "0                  0.517653            3.640706            0.725328 -2.564949   \n",
       "1                  0.517653            3.640706            0.725328 -2.079442   \n",
       "2                  0.517653            3.640706            0.725328 -2.730029   \n",
       "3                  0.517653            3.640706            0.725328 -2.730029   \n",
       "4                  0.517653            3.640706            0.725328 -2.730029   \n",
       "\n",
       "   hod_delta  dow_delta  orders_since_last  \n",
       "0   0.711538   0.153846                  2  \n",
       "1   0.312500  -1.875000                  2  \n",
       "2   0.967391  -0.608696                  8  \n",
       "3  -1.032609  -0.608696                  7  \n",
       "4  -1.032609   1.391304                 22  \n",
       "\n",
       "[5 rows x 32 columns]"
      ]
     },
     "execution_count": 23,
     "metadata": {},
     "output_type": "execute_result"
    }
   ],
   "source": [
    "df[\"hist_freq\"] = df[\"times_ord\"]/df[\"tot_orders\"]\n",
    "df[\"log_freq\"] = np.log(df[\"hist_freq\"])\n",
    "df = df.drop(\"hist_freq\", 1)\n",
    "df['hod_delta'] = df['avg_order_hod'] - df['hod_group']\n",
    "df['dow_delta'] = df['avg_order_dow'] - df['order_dow']\n",
    "df['orders_since_last'] = df['tot_orders'] - df['order_number']\n",
    "df = df.drop('eval_set', 1)\n",
    "df.head()"
   ]
  },
  {
   "cell_type": "code",
   "execution_count": 24,
   "metadata": {
    "collapsed": false
   },
   "outputs": [
    {
     "name": "stdout",
     "output_type": "stream",
     "text": [
      "13793508\n",
      "32\n"
     ]
    }
   ],
   "source": [
    "print(len(df))\n",
    "print(len(df.columns))"
   ]
  },
  {
   "cell_type": "code",
   "execution_count": null,
   "metadata": {
    "collapsed": true
   },
   "outputs": [],
   "source": []
  },
  {
   "cell_type": "markdown",
   "metadata": {
    "collapsed": true
   },
   "source": [
    "### Order Streaks Feature\n",
    "\n",
    "Thanks Faron!"
   ]
  },
  {
   "cell_type": "code",
   "execution_count": 25,
   "metadata": {
    "collapsed": false
   },
   "outputs": [
    {
     "name": "stdout",
     "output_type": "stream",
     "text": [
      "Log:  13827423\n",
      "Log:  88121\n",
      "nthreads: 2\n",
      "CPU times: user 2min 43s, sys: 9.1 s, total: 2min 52s\n",
      "Wall time: 6min 45s\n",
      "Streaks:  13827423\n"
     ]
    }
   ],
   "source": [
    "from joblib import Parallel, delayed\n",
    "import multiprocessing\n",
    "\n",
    "def apply_parallel(df_groups, _func):\n",
    "    nthreads = multiprocessing.cpu_count() >> 1\n",
    "    print(\"nthreads: {}\".format(nthreads))\n",
    "\n",
    "    res = Parallel(n_jobs=nthreads)(delayed(_func)(grp.copy()) for _, grp in df_groups)\n",
    "    return pd.concat(res)\n",
    "\n",
    "\n",
    "def add_order_streak(df):\n",
    "    tmp = df.copy()\n",
    "    tmp.user_id = 1\n",
    "\n",
    "    UP = tmp.pivot(index=\"product_id\", columns='order_number').fillna(-1)\n",
    "    UP.columns = UP.columns.droplevel(0)\n",
    "\n",
    "    x = np.abs(UP.diff(axis=1).fillna(2)).values[:, ::-1]\n",
    "    df.set_index(\"product_id\", inplace=True)\n",
    "    df['order_streak'] = np.multiply(np.argmax(x, axis=1) + 1, UP.iloc[:, -1])\n",
    "    df.reset_index(drop=False, inplace=True)\n",
    "    return df\n",
    "\n",
    "ordrs = orders.groupby(['user_id']).tail(100)\n",
    "log = ordrs.merge(pr, how='inner', on='order_id')\n",
    "log = log[['user_id', 'product_id', 'order_number']]\n",
    "print('Log: ', len(log))\n",
    "log = log.groupby('user_id')\n",
    "print('Log: ', len(log))\n",
    "%time streak = apply_parallel(log, add_order_streak)\n",
    "print('Streaks: ', len(streak))"
   ]
  },
  {
   "cell_type": "code",
   "execution_count": 26,
   "metadata": {
    "collapsed": false
   },
   "outputs": [
    {
     "data": {
      "text/plain": [
       "13965273"
      ]
     },
     "execution_count": 26,
     "metadata": {},
     "output_type": "execute_result"
    }
   ],
   "source": [
    "pr_tr = pd.concat([pr, train])\n",
    "len(pr_tr)"
   ]
  },
  {
   "cell_type": "code",
   "execution_count": 27,
   "metadata": {
    "collapsed": false
   },
   "outputs": [
    {
     "name": "stdout",
     "output_type": "stream",
     "text": [
      "13827423\n"
     ]
    },
    {
     "data": {
      "text/html": [
       "<div>\n",
       "<table border=\"1\" class=\"dataframe\">\n",
       "  <thead>\n",
       "    <tr style=\"text-align: right;\">\n",
       "      <th></th>\n",
       "      <th>product_id</th>\n",
       "      <th>user_id</th>\n",
       "      <th>order_number</th>\n",
       "      <th>order_streak</th>\n",
       "    </tr>\n",
       "  </thead>\n",
       "  <tbody>\n",
       "    <tr>\n",
       "      <th>0</th>\n",
       "      <td>9387</td>\n",
       "      <td>3</td>\n",
       "      <td>1</td>\n",
       "      <td>-5.0</td>\n",
       "    </tr>\n",
       "    <tr>\n",
       "      <th>1</th>\n",
       "      <td>17668</td>\n",
       "      <td>3</td>\n",
       "      <td>1</td>\n",
       "      <td>-1.0</td>\n",
       "    </tr>\n",
       "    <tr>\n",
       "      <th>2</th>\n",
       "      <td>15143</td>\n",
       "      <td>3</td>\n",
       "      <td>1</td>\n",
       "      <td>-11.0</td>\n",
       "    </tr>\n",
       "    <tr>\n",
       "      <th>3</th>\n",
       "      <td>16797</td>\n",
       "      <td>3</td>\n",
       "      <td>1</td>\n",
       "      <td>-3.0</td>\n",
       "    </tr>\n",
       "    <tr>\n",
       "      <th>4</th>\n",
       "      <td>39190</td>\n",
       "      <td>3</td>\n",
       "      <td>1</td>\n",
       "      <td>8.0</td>\n",
       "    </tr>\n",
       "  </tbody>\n",
       "</table>\n",
       "</div>"
      ],
      "text/plain": [
       "   product_id  user_id  order_number  order_streak\n",
       "0        9387        3             1          -5.0\n",
       "1       17668        3             1          -1.0\n",
       "2       15143        3             1         -11.0\n",
       "3       16797        3             1          -3.0\n",
       "4       39190        3             1           8.0"
      ]
     },
     "execution_count": 27,
     "metadata": {},
     "output_type": "execute_result"
    }
   ],
   "source": [
    "strk = streak.drop_duplicates().reset_index(drop=True)\n",
    "#strk = strk[['user_id', 'product_id', 'order_streak']]\n",
    "print(len(strk))\n",
    "strk.head()"
   ]
  },
  {
   "cell_type": "code",
   "execution_count": null,
   "metadata": {
    "collapsed": false
   },
   "outputs": [],
   "source": []
  },
  {
   "cell_type": "markdown",
   "metadata": {},
   "source": [
    "### Get Only Last Time each Product Was Ordered for each User "
   ]
  },
  {
   "cell_type": "code",
   "execution_count": null,
   "metadata": {
    "collapsed": false
   },
   "outputs": [],
   "source": []
  },
  {
   "cell_type": "code",
   "execution_count": 29,
   "metadata": {
    "collapsed": false
   },
   "outputs": [
    {
     "name": "stdout",
     "output_type": "stream",
     "text": [
      "CPU times: user 4.75 s, sys: 1.23 s, total: 5.98 s\n",
      "Wall time: 6.2 s\n",
      "5633796\n"
     ]
    },
    {
     "data": {
      "text/html": [
       "<div>\n",
       "<table border=\"1\" class=\"dataframe\">\n",
       "  <thead>\n",
       "    <tr style=\"text-align: right;\">\n",
       "      <th></th>\n",
       "      <th>user_id</th>\n",
       "      <th>product_id</th>\n",
       "      <th>order_number</th>\n",
       "      <th>order_id</th>\n",
       "      <th>add_to_cart_order</th>\n",
       "      <th>reordered</th>\n",
       "      <th>order_dow</th>\n",
       "      <th>order_hour_of_day</th>\n",
       "      <th>days_since_prior_order</th>\n",
       "      <th>Weekend?</th>\n",
       "      <th>...</th>\n",
       "      <th>aisle_id</th>\n",
       "      <th>department_id</th>\n",
       "      <th>prod_orders</th>\n",
       "      <th>prod_reorder_probability</th>\n",
       "      <th>prod_reorder_times</th>\n",
       "      <th>prod_reorder_ratio</th>\n",
       "      <th>log_freq</th>\n",
       "      <th>hod_delta</th>\n",
       "      <th>dow_delta</th>\n",
       "      <th>orders_since_last</th>\n",
       "    </tr>\n",
       "  </thead>\n",
       "  <tbody>\n",
       "    <tr>\n",
       "      <th>0</th>\n",
       "      <td>3</td>\n",
       "      <td>248</td>\n",
       "      <td>2</td>\n",
       "      <td>444309</td>\n",
       "      <td>3</td>\n",
       "      <td>0</td>\n",
       "      <td>3</td>\n",
       "      <td>19</td>\n",
       "      <td>9.0</td>\n",
       "      <td>0</td>\n",
       "      <td>...</td>\n",
       "      <td>117</td>\n",
       "      <td>19</td>\n",
       "      <td>2659</td>\n",
       "      <td>0.268337</td>\n",
       "      <td>1.625306</td>\n",
       "      <td>0.384731</td>\n",
       "      <td>-2.564949</td>\n",
       "      <td>0.076923</td>\n",
       "      <td>-1.615385</td>\n",
       "      <td>11</td>\n",
       "    </tr>\n",
       "    <tr>\n",
       "      <th>1</th>\n",
       "      <td>3</td>\n",
       "      <td>1005</td>\n",
       "      <td>10</td>\n",
       "      <td>676467</td>\n",
       "      <td>5</td>\n",
       "      <td>0</td>\n",
       "      <td>3</td>\n",
       "      <td>16</td>\n",
       "      <td>17.0</td>\n",
       "      <td>0</td>\n",
       "      <td>...</td>\n",
       "      <td>94</td>\n",
       "      <td>7</td>\n",
       "      <td>198</td>\n",
       "      <td>0.323810</td>\n",
       "      <td>1.885714</td>\n",
       "      <td>0.469697</td>\n",
       "      <td>-2.564949</td>\n",
       "      <td>0.076923</td>\n",
       "      <td>-1.615385</td>\n",
       "      <td>3</td>\n",
       "    </tr>\n",
       "    <tr>\n",
       "      <th>2</th>\n",
       "      <td>3</td>\n",
       "      <td>1819</td>\n",
       "      <td>7</td>\n",
       "      <td>1839752</td>\n",
       "      <td>2</td>\n",
       "      <td>1</td>\n",
       "      <td>0</td>\n",
       "      <td>15</td>\n",
       "      <td>7.0</td>\n",
       "      <td>1</td>\n",
       "      <td>...</td>\n",
       "      <td>88</td>\n",
       "      <td>13</td>\n",
       "      <td>993</td>\n",
       "      <td>0.338521</td>\n",
       "      <td>1.931907</td>\n",
       "      <td>0.482377</td>\n",
       "      <td>-1.466337</td>\n",
       "      <td>1.076923</td>\n",
       "      <td>1.384615</td>\n",
       "      <td>6</td>\n",
       "    </tr>\n",
       "    <tr>\n",
       "      <th>3</th>\n",
       "      <td>3</td>\n",
       "      <td>7503</td>\n",
       "      <td>3</td>\n",
       "      <td>3002854</td>\n",
       "      <td>6</td>\n",
       "      <td>0</td>\n",
       "      <td>3</td>\n",
       "      <td>16</td>\n",
       "      <td>21.0</td>\n",
       "      <td>0</td>\n",
       "      <td>...</td>\n",
       "      <td>117</td>\n",
       "      <td>19</td>\n",
       "      <td>5340</td>\n",
       "      <td>0.385256</td>\n",
       "      <td>2.224073</td>\n",
       "      <td>0.550375</td>\n",
       "      <td>-2.564949</td>\n",
       "      <td>0.076923</td>\n",
       "      <td>-1.615385</td>\n",
       "      <td>10</td>\n",
       "    </tr>\n",
       "    <tr>\n",
       "      <th>4</th>\n",
       "      <td>3</td>\n",
       "      <td>8021</td>\n",
       "      <td>2</td>\n",
       "      <td>444309</td>\n",
       "      <td>5</td>\n",
       "      <td>0</td>\n",
       "      <td>3</td>\n",
       "      <td>19</td>\n",
       "      <td>9.0</td>\n",
       "      <td>0</td>\n",
       "      <td>...</td>\n",
       "      <td>54</td>\n",
       "      <td>17</td>\n",
       "      <td>11739</td>\n",
       "      <td>0.430933</td>\n",
       "      <td>2.456886</td>\n",
       "      <td>0.592981</td>\n",
       "      <td>-2.564949</td>\n",
       "      <td>0.076923</td>\n",
       "      <td>-1.615385</td>\n",
       "      <td>11</td>\n",
       "    </tr>\n",
       "  </tbody>\n",
       "</table>\n",
       "<p>5 rows × 32 columns</p>\n",
       "</div>"
      ],
      "text/plain": [
       "   user_id  product_id  order_number  order_id  add_to_cart_order  reordered  \\\n",
       "0        3         248             2    444309                  3          0   \n",
       "1        3        1005            10    676467                  5          0   \n",
       "2        3        1819             7   1839752                  2          1   \n",
       "3        3        7503             3   3002854                  6          0   \n",
       "4        3        8021             2    444309                  5          0   \n",
       "\n",
       "   order_dow  order_hour_of_day  days_since_prior_order  Weekend?  \\\n",
       "0          3                 19                     9.0         0   \n",
       "1          3                 16                    17.0         0   \n",
       "2          0                 15                     7.0         1   \n",
       "3          3                 16                    21.0         0   \n",
       "4          3                 19                     9.0         0   \n",
       "\n",
       "         ...          aisle_id  department_id  prod_orders  \\\n",
       "0        ...               117             19         2659   \n",
       "1        ...                94              7          198   \n",
       "2        ...                88             13          993   \n",
       "3        ...               117             19         5340   \n",
       "4        ...                54             17        11739   \n",
       "\n",
       "   prod_reorder_probability  prod_reorder_times  prod_reorder_ratio  log_freq  \\\n",
       "0                  0.268337            1.625306            0.384731 -2.564949   \n",
       "1                  0.323810            1.885714            0.469697 -2.564949   \n",
       "2                  0.338521            1.931907            0.482377 -1.466337   \n",
       "3                  0.385256            2.224073            0.550375 -2.564949   \n",
       "4                  0.430933            2.456886            0.592981 -2.564949   \n",
       "\n",
       "   hod_delta  dow_delta  orders_since_last  \n",
       "0   0.076923  -1.615385                 11  \n",
       "1   0.076923  -1.615385                  3  \n",
       "2   1.076923   1.384615                  6  \n",
       "3   0.076923  -1.615385                 10  \n",
       "4   0.076923  -1.615385                 11  \n",
       "\n",
       "[5 rows x 32 columns]"
      ]
     },
     "execution_count": 29,
     "metadata": {},
     "output_type": "execute_result"
    }
   ],
   "source": [
    "# In each [product_id, user_id] group, select only the row with max order number (last one)\n",
    "\n",
    "%time lastProdOrders = df.groupby([\"user_id\",\"product_id\"]).agg({'order_number':'max'}).reset_index()\n",
    "lastProdOrders = lastProdOrders.merge(df, on=['user_id','product_id', 'order_number'], how='left')\n",
    "print(len(lastProdOrders))\n",
    "lastProdOrders.head()"
   ]
  },
  {
   "cell_type": "code",
   "execution_count": null,
   "metadata": {
    "collapsed": false
   },
   "outputs": [],
   "source": []
  },
  {
   "cell_type": "code",
   "execution_count": null,
   "metadata": {
    "collapsed": false
   },
   "outputs": [],
   "source": []
  },
  {
   "cell_type": "markdown",
   "metadata": {},
   "source": [
    "### Combine Streaks and Last Product Orders"
   ]
  },
  {
   "cell_type": "code",
   "execution_count": 30,
   "metadata": {
    "collapsed": false
   },
   "outputs": [
    {
     "data": {
      "text/plain": [
       "5633796"
      ]
     },
     "execution_count": 30,
     "metadata": {},
     "output_type": "execute_result"
    }
   ],
   "source": [
    "df = pd.merge(lastProdOrders, strk, how='left', on=['user_id','order_number', 'product_id'])\n",
    "len(df)\n"
   ]
  },
  {
   "cell_type": "code",
   "execution_count": null,
   "metadata": {
    "collapsed": false
   },
   "outputs": [],
   "source": []
  },
  {
   "cell_type": "code",
   "execution_count": 32,
   "metadata": {
    "collapsed": false
   },
   "outputs": [
    {
     "data": {
      "text/plain": [
       "<matplotlib.axes._subplots.AxesSubplot at 0x110acee80>"
      ]
     },
     "execution_count": 32,
     "metadata": {},
     "output_type": "execute_result"
    },
    {
     "data": {
      "image/png": "[encoded data removed]",
      "text/plain": [
       "<matplotlib.figure.Figure at 0x11c946b38>"
      ]
     },
     "metadata": {},
     "output_type": "display_data"
    }
   ],
   "source": [
    "df['order_streak'] = df['order_streak'].fillna(-df['orders_since_last'])\n",
    "df['order_streak'].hist()"
   ]
  },
  {
   "cell_type": "markdown",
   "metadata": {},
   "source": [
    "### Put it All Together"
   ]
  },
  {
   "cell_type": "code",
   "execution_count": 33,
   "metadata": {
    "collapsed": false
   },
   "outputs": [
    {
     "data": {
      "text/html": [
       "<div>\n",
       "<table border=\"1\" class=\"dataframe\">\n",
       "  <thead>\n",
       "    <tr style=\"text-align: right;\">\n",
       "      <th></th>\n",
       "      <th>user_id</th>\n",
       "      <th>product_id</th>\n",
       "      <th>order_number</th>\n",
       "      <th>last_order_id</th>\n",
       "      <th>add_to_cart_order</th>\n",
       "      <th>reordered</th>\n",
       "      <th>order_dow</th>\n",
       "      <th>order_hour_of_day</th>\n",
       "      <th>days_since_prior_order</th>\n",
       "      <th>Weekend?</th>\n",
       "      <th>...</th>\n",
       "      <th>department_id</th>\n",
       "      <th>prod_orders</th>\n",
       "      <th>prod_reorder_probability</th>\n",
       "      <th>prod_reorder_times</th>\n",
       "      <th>prod_reorder_ratio</th>\n",
       "      <th>log_freq</th>\n",
       "      <th>hod_delta</th>\n",
       "      <th>dow_delta</th>\n",
       "      <th>orders_since_last</th>\n",
       "      <th>order_streak</th>\n",
       "    </tr>\n",
       "  </thead>\n",
       "  <tbody>\n",
       "    <tr>\n",
       "      <th>0</th>\n",
       "      <td>3</td>\n",
       "      <td>248</td>\n",
       "      <td>2</td>\n",
       "      <td>444309</td>\n",
       "      <td>3</td>\n",
       "      <td>0</td>\n",
       "      <td>3</td>\n",
       "      <td>19</td>\n",
       "      <td>9.0</td>\n",
       "      <td>0</td>\n",
       "      <td>...</td>\n",
       "      <td>19</td>\n",
       "      <td>2659</td>\n",
       "      <td>0.268337</td>\n",
       "      <td>1.625306</td>\n",
       "      <td>0.384731</td>\n",
       "      <td>-2.564949</td>\n",
       "      <td>0.076923</td>\n",
       "      <td>-1.615385</td>\n",
       "      <td>11</td>\n",
       "      <td>-10.0</td>\n",
       "    </tr>\n",
       "    <tr>\n",
       "      <th>1</th>\n",
       "      <td>3</td>\n",
       "      <td>1005</td>\n",
       "      <td>10</td>\n",
       "      <td>676467</td>\n",
       "      <td>5</td>\n",
       "      <td>0</td>\n",
       "      <td>3</td>\n",
       "      <td>16</td>\n",
       "      <td>17.0</td>\n",
       "      <td>0</td>\n",
       "      <td>...</td>\n",
       "      <td>7</td>\n",
       "      <td>198</td>\n",
       "      <td>0.323810</td>\n",
       "      <td>1.885714</td>\n",
       "      <td>0.469697</td>\n",
       "      <td>-2.564949</td>\n",
       "      <td>0.076923</td>\n",
       "      <td>-1.615385</td>\n",
       "      <td>3</td>\n",
       "      <td>-2.0</td>\n",
       "    </tr>\n",
       "    <tr>\n",
       "      <th>2</th>\n",
       "      <td>3</td>\n",
       "      <td>1819</td>\n",
       "      <td>7</td>\n",
       "      <td>1839752</td>\n",
       "      <td>2</td>\n",
       "      <td>1</td>\n",
       "      <td>0</td>\n",
       "      <td>15</td>\n",
       "      <td>7.0</td>\n",
       "      <td>1</td>\n",
       "      <td>...</td>\n",
       "      <td>13</td>\n",
       "      <td>993</td>\n",
       "      <td>0.338521</td>\n",
       "      <td>1.931907</td>\n",
       "      <td>0.482377</td>\n",
       "      <td>-1.466337</td>\n",
       "      <td>1.076923</td>\n",
       "      <td>1.384615</td>\n",
       "      <td>6</td>\n",
       "      <td>-5.0</td>\n",
       "    </tr>\n",
       "    <tr>\n",
       "      <th>3</th>\n",
       "      <td>3</td>\n",
       "      <td>7503</td>\n",
       "      <td>3</td>\n",
       "      <td>3002854</td>\n",
       "      <td>6</td>\n",
       "      <td>0</td>\n",
       "      <td>3</td>\n",
       "      <td>16</td>\n",
       "      <td>21.0</td>\n",
       "      <td>0</td>\n",
       "      <td>...</td>\n",
       "      <td>19</td>\n",
       "      <td>5340</td>\n",
       "      <td>0.385256</td>\n",
       "      <td>2.224073</td>\n",
       "      <td>0.550375</td>\n",
       "      <td>-2.564949</td>\n",
       "      <td>0.076923</td>\n",
       "      <td>-1.615385</td>\n",
       "      <td>10</td>\n",
       "      <td>-9.0</td>\n",
       "    </tr>\n",
       "    <tr>\n",
       "      <th>4</th>\n",
       "      <td>3</td>\n",
       "      <td>8021</td>\n",
       "      <td>2</td>\n",
       "      <td>444309</td>\n",
       "      <td>5</td>\n",
       "      <td>0</td>\n",
       "      <td>3</td>\n",
       "      <td>19</td>\n",
       "      <td>9.0</td>\n",
       "      <td>0</td>\n",
       "      <td>...</td>\n",
       "      <td>17</td>\n",
       "      <td>11739</td>\n",
       "      <td>0.430933</td>\n",
       "      <td>2.456886</td>\n",
       "      <td>0.592981</td>\n",
       "      <td>-2.564949</td>\n",
       "      <td>0.076923</td>\n",
       "      <td>-1.615385</td>\n",
       "      <td>11</td>\n",
       "      <td>-10.0</td>\n",
       "    </tr>\n",
       "  </tbody>\n",
       "</table>\n",
       "<p>5 rows × 33 columns</p>\n",
       "</div>"
      ],
      "text/plain": [
       "   user_id  product_id  order_number  last_order_id  add_to_cart_order  \\\n",
       "0        3         248             2         444309                  3   \n",
       "1        3        1005            10         676467                  5   \n",
       "2        3        1819             7        1839752                  2   \n",
       "3        3        7503             3        3002854                  6   \n",
       "4        3        8021             2         444309                  5   \n",
       "\n",
       "   reordered  order_dow  order_hour_of_day  days_since_prior_order  Weekend?  \\\n",
       "0          0          3                 19                     9.0         0   \n",
       "1          0          3                 16                    17.0         0   \n",
       "2          1          0                 15                     7.0         1   \n",
       "3          0          3                 16                    21.0         0   \n",
       "4          0          3                 19                     9.0         0   \n",
       "\n",
       "       ...       department_id  prod_orders  prod_reorder_probability  \\\n",
       "0      ...                  19         2659                  0.268337   \n",
       "1      ...                   7          198                  0.323810   \n",
       "2      ...                  13          993                  0.338521   \n",
       "3      ...                  19         5340                  0.385256   \n",
       "4      ...                  17        11739                  0.430933   \n",
       "\n",
       "   prod_reorder_times  prod_reorder_ratio  log_freq  hod_delta  dow_delta  \\\n",
       "0            1.625306            0.384731 -2.564949   0.076923  -1.615385   \n",
       "1            1.885714            0.469697 -2.564949   0.076923  -1.615385   \n",
       "2            1.931907            0.482377 -1.466337   1.076923   1.384615   \n",
       "3            2.224073            0.550375 -2.564949   0.076923  -1.615385   \n",
       "4            2.456886            0.592981 -2.564949   0.076923  -1.615385   \n",
       "\n",
       "   orders_since_last  order_streak  \n",
       "0                 11         -10.0  \n",
       "1                  3          -2.0  \n",
       "2                  6          -5.0  \n",
       "3                 10          -9.0  \n",
       "4                 11         -10.0  \n",
       "\n",
       "[5 rows x 33 columns]"
      ]
     },
     "execution_count": 33,
     "metadata": {},
     "output_type": "execute_result"
    }
   ],
   "source": [
    "#df = lastProdOrders\n",
    "df.rename(columns={\"order_id\":\"last_order_id\"}, inplace=True)\n",
    "\n",
    "del lastProdOrders, streak, strk\n",
    "\n",
    "df.head()"
   ]
  },
  {
   "cell_type": "code",
   "execution_count": 34,
   "metadata": {
    "collapsed": false
   },
   "outputs": [
    {
     "name": "stdout",
     "output_type": "stream",
     "text": [
      "['user_id', 'product_id', 'order_number', 'last_order_id', 'add_to_cart_order', 'reordered', 'order_dow', 'order_hour_of_day', 'days_since_prior_order', 'Weekend?', 'days_to_last_order', 'hod_group', 'size_order', 'num_reordered', 'avg_cart_priority', 'times_ord', 'avg_order_size', 'avg_n_reordered', 'avg_days_between_orders', 'avg_order_dow', 'avg_order_hod', 'tot_orders', 'aisle_id', 'department_id', 'prod_orders', 'prod_reorder_probability', 'prod_reorder_times', 'prod_reorder_ratio', 'log_freq', 'hod_delta', 'dow_delta', 'orders_since_last', 'order_streak']\n"
     ]
    }
   ],
   "source": [
    "print(list(df.columns))"
   ]
  },
  {
   "cell_type": "code",
   "execution_count": null,
   "metadata": {
    "collapsed": false
   },
   "outputs": [],
   "source": []
  },
  {
   "cell_type": "markdown",
   "metadata": {},
   "source": [
    "### Features for Train and Test Sets"
   ]
  },
  {
   "cell_type": "code",
   "execution_count": 36,
   "metadata": {
    "collapsed": false
   },
   "outputs": [
    {
     "name": "stdout",
     "output_type": "stream",
     "text": [
      "Index(['user_id', 'product_id', 'order_number', 'add_to_cart_order',\n",
      "       'reordered', 'order_dow', 'order_hour_of_day', 'days_since_prior_order',\n",
      "       'Weekend?', 'days_to_last_order',\n",
      "       ...\n",
      "       'department_id_13', 'department_id_14', 'department_id_15',\n",
      "       'department_id_16', 'department_id_17', 'department_id_18',\n",
      "       'department_id_19', 'department_id_20', 'department_id_21',\n",
      "       'repurchased'],\n",
      "      dtype='object', length=184)\n"
     ]
    }
   ],
   "source": [
    "features = df.drop([\"last_order_id\"], 1)\n",
    "features[\"department_id\"] = features[\"department_id\"].astype(object)\n",
    "features[\"aisle_id\"] = features[\"aisle_id\"].astype(object)\n",
    "\n",
    "# Convert deparment_id and aisle_id to dummies\n",
    "features = pd.get_dummies(features, drop_first=True)\n",
    "\n",
    "featuresTrain = pd.merge(features, orders[orders[\"eval_set\"]==\"train\"][[\"user_id\"]],on=\"user_id\",how=\"inner\")\n",
    "\n",
    "# Append target column\n",
    "trainProducts = pd.merge(train, orders, on=\"order_id\")[[\"user_id\",\"product_id\"]]\n",
    "featuresTrain = pd.merge(featuresTrain, trainProducts, how=\"left\", indicator=\"repurchased\")\n",
    "featuresTrain[\"repurchased\"] = np.where(featuresTrain.repurchased == \"both\", 1, 0)\n",
    "\n",
    "featuresTest = pd.merge(features, orders[orders[\"eval_set\"]==\"test\"][[\"user_id\"]],on=\"user_id\",how=\"inner\")\n",
    "\n",
    "assert(featuresTrain.shape[0]+featuresTest.shape[0]==features.shape[0])\n",
    "print(featuresTrain.columns)"
   ]
  },
  {
   "cell_type": "code",
   "execution_count": 37,
   "metadata": {
    "collapsed": false
   },
   "outputs": [
    {
     "data": {
      "text/plain": [
       "4804390"
      ]
     },
     "execution_count": 37,
     "metadata": {},
     "output_type": "execute_result"
    }
   ],
   "source": [
    "len(featuresTest)"
   ]
  },
  {
   "cell_type": "code",
   "execution_count": 38,
   "metadata": {
    "collapsed": false
   },
   "outputs": [
    {
     "data": {
      "text/html": [
       "<div>\n",
       "<table border=\"1\" class=\"dataframe\">\n",
       "  <thead>\n",
       "    <tr style=\"text-align: right;\">\n",
       "      <th></th>\n",
       "      <th>user_id</th>\n",
       "      <th>product_id</th>\n",
       "      <th>order_number</th>\n",
       "      <th>add_to_cart_order</th>\n",
       "      <th>reordered</th>\n",
       "      <th>order_dow</th>\n",
       "      <th>order_hour_of_day</th>\n",
       "      <th>days_since_prior_order</th>\n",
       "      <th>Weekend?</th>\n",
       "      <th>days_to_last_order</th>\n",
       "      <th>...</th>\n",
       "      <th>department_id_13</th>\n",
       "      <th>department_id_14</th>\n",
       "      <th>department_id_15</th>\n",
       "      <th>department_id_16</th>\n",
       "      <th>department_id_17</th>\n",
       "      <th>department_id_18</th>\n",
       "      <th>department_id_19</th>\n",
       "      <th>department_id_20</th>\n",
       "      <th>department_id_21</th>\n",
       "      <th>repurchased</th>\n",
       "    </tr>\n",
       "  </thead>\n",
       "  <tbody>\n",
       "    <tr>\n",
       "      <th>0</th>\n",
       "      <td>23</td>\n",
       "      <td>2138</td>\n",
       "      <td>4</td>\n",
       "      <td>12</td>\n",
       "      <td>0</td>\n",
       "      <td>3</td>\n",
       "      <td>11</td>\n",
       "      <td>30.0</td>\n",
       "      <td>0</td>\n",
       "      <td>30.0</td>\n",
       "      <td>...</td>\n",
       "      <td>0</td>\n",
       "      <td>0</td>\n",
       "      <td>0</td>\n",
       "      <td>0</td>\n",
       "      <td>0</td>\n",
       "      <td>0</td>\n",
       "      <td>0</td>\n",
       "      <td>0</td>\n",
       "      <td>0</td>\n",
       "      <td>0</td>\n",
       "    </tr>\n",
       "    <tr>\n",
       "      <th>1</th>\n",
       "      <td>23</td>\n",
       "      <td>3108</td>\n",
       "      <td>2</td>\n",
       "      <td>6</td>\n",
       "      <td>0</td>\n",
       "      <td>0</td>\n",
       "      <td>10</td>\n",
       "      <td>9.0</td>\n",
       "      <td>1</td>\n",
       "      <td>65.0</td>\n",
       "      <td>...</td>\n",
       "      <td>0</td>\n",
       "      <td>0</td>\n",
       "      <td>0</td>\n",
       "      <td>1</td>\n",
       "      <td>0</td>\n",
       "      <td>0</td>\n",
       "      <td>0</td>\n",
       "      <td>0</td>\n",
       "      <td>0</td>\n",
       "      <td>0</td>\n",
       "    </tr>\n",
       "    <tr>\n",
       "      <th>2</th>\n",
       "      <td>23</td>\n",
       "      <td>3243</td>\n",
       "      <td>3</td>\n",
       "      <td>6</td>\n",
       "      <td>0</td>\n",
       "      <td>5</td>\n",
       "      <td>12</td>\n",
       "      <td>5.0</td>\n",
       "      <td>0</td>\n",
       "      <td>60.0</td>\n",
       "      <td>...</td>\n",
       "      <td>0</td>\n",
       "      <td>0</td>\n",
       "      <td>0</td>\n",
       "      <td>0</td>\n",
       "      <td>0</td>\n",
       "      <td>0</td>\n",
       "      <td>0</td>\n",
       "      <td>0</td>\n",
       "      <td>0</td>\n",
       "      <td>0</td>\n",
       "    </tr>\n",
       "    <tr>\n",
       "      <th>3</th>\n",
       "      <td>23</td>\n",
       "      <td>3518</td>\n",
       "      <td>1</td>\n",
       "      <td>4</td>\n",
       "      <td>0</td>\n",
       "      <td>5</td>\n",
       "      <td>14</td>\n",
       "      <td>NaN</td>\n",
       "      <td>0</td>\n",
       "      <td>74.0</td>\n",
       "      <td>...</td>\n",
       "      <td>0</td>\n",
       "      <td>0</td>\n",
       "      <td>0</td>\n",
       "      <td>0</td>\n",
       "      <td>1</td>\n",
       "      <td>0</td>\n",
       "      <td>0</td>\n",
       "      <td>0</td>\n",
       "      <td>0</td>\n",
       "      <td>0</td>\n",
       "    </tr>\n",
       "    <tr>\n",
       "      <th>4</th>\n",
       "      <td>23</td>\n",
       "      <td>3873</td>\n",
       "      <td>2</td>\n",
       "      <td>1</td>\n",
       "      <td>0</td>\n",
       "      <td>0</td>\n",
       "      <td>10</td>\n",
       "      <td>9.0</td>\n",
       "      <td>1</td>\n",
       "      <td>65.0</td>\n",
       "      <td>...</td>\n",
       "      <td>0</td>\n",
       "      <td>0</td>\n",
       "      <td>0</td>\n",
       "      <td>0</td>\n",
       "      <td>0</td>\n",
       "      <td>0</td>\n",
       "      <td>0</td>\n",
       "      <td>0</td>\n",
       "      <td>0</td>\n",
       "      <td>0</td>\n",
       "    </tr>\n",
       "  </tbody>\n",
       "</table>\n",
       "<p>5 rows × 184 columns</p>\n",
       "</div>"
      ],
      "text/plain": [
       "   user_id  product_id  order_number  add_to_cart_order  reordered  order_dow  \\\n",
       "0       23        2138             4                 12          0          3   \n",
       "1       23        3108             2                  6          0          0   \n",
       "2       23        3243             3                  6          0          5   \n",
       "3       23        3518             1                  4          0          5   \n",
       "4       23        3873             2                  1          0          0   \n",
       "\n",
       "   order_hour_of_day  days_since_prior_order  Weekend?  days_to_last_order  \\\n",
       "0                 11                    30.0         0                30.0   \n",
       "1                 10                     9.0         1                65.0   \n",
       "2                 12                     5.0         0                60.0   \n",
       "3                 14                     NaN         0                74.0   \n",
       "4                 10                     9.0         1                65.0   \n",
       "\n",
       "      ...       department_id_13  department_id_14  department_id_15  \\\n",
       "0     ...                      0                 0                 0   \n",
       "1     ...                      0                 0                 0   \n",
       "2     ...                      0                 0                 0   \n",
       "3     ...                      0                 0                 0   \n",
       "4     ...                      0                 0                 0   \n",
       "\n",
       "   department_id_16  department_id_17  department_id_18  department_id_19  \\\n",
       "0                 0                 0                 0                 0   \n",
       "1                 1                 0                 0                 0   \n",
       "2                 0                 0                 0                 0   \n",
       "3                 0                 1                 0                 0   \n",
       "4                 0                 0                 0                 0   \n",
       "\n",
       "   department_id_20  department_id_21  repurchased  \n",
       "0                 0                 0            0  \n",
       "1                 0                 0            0  \n",
       "2                 0                 0            0  \n",
       "3                 0                 0            0  \n",
       "4                 0                 0            0  \n",
       "\n",
       "[5 rows x 184 columns]"
      ]
     },
     "execution_count": 38,
     "metadata": {},
     "output_type": "execute_result"
    }
   ],
   "source": [
    "featuresTrain.head()"
   ]
  },
  {
   "cell_type": "markdown",
   "metadata": {},
   "source": [
    "### Train, Test, Split"
   ]
  },
  {
   "cell_type": "code",
   "execution_count": 39,
   "metadata": {
    "collapsed": true
   },
   "outputs": [],
   "source": [
    "orders_train, orders_holdout = train_test_split(sampleOrdersTrain, test_size=0.25)\n",
    "Xy_train = featuresTrain[featuresTrain[\"user_id\"].isin(orders_train[\"user_id\"])]\n",
    "Xy_holdout = featuresTrain[featuresTrain[\"user_id\"].isin(orders_holdout[\"user_id\"])]\n",
    "\n",
    "dropped = [\"user_id\",\"order_number\",\"product_id\",\"repurchased\"]\n",
    "y_train = Xy_train[\"repurchased\"]\n",
    "X_train = Xy_train.drop(dropped, 1)\n",
    "y_holdout = Xy_holdout[\"repurchased\"]\n",
    "X_holdout = Xy_holdout.drop(dropped, 1)"
   ]
  },
  {
   "cell_type": "code",
   "execution_count": null,
   "metadata": {
    "collapsed": true
   },
   "outputs": [],
   "source": []
  },
  {
   "cell_type": "markdown",
   "metadata": {},
   "source": [
    "### Train Logistic Regression Model on Train set and look at Coefficients"
   ]
  },
  {
   "cell_type": "code",
   "execution_count": null,
   "metadata": {
    "collapsed": true
   },
   "outputs": [],
   "source": [
    "lr = LogisticRegression()\n",
    "lr.fit(X_train.values, y_train.values)\n",
    "\n",
    "coeffs = (lr.coef_.ravel()*featuresTrain.drop(dropped,1).std()).sort_values()\n",
    "\n",
    "sns.barplot(coeffs.values, coeffs.index)"
   ]
  },
  {
   "cell_type": "code",
   "execution_count": null,
   "metadata": {
    "collapsed": true
   },
   "outputs": [],
   "source": [
    "coeffs[:10]"
   ]
  },
  {
   "cell_type": "code",
   "execution_count": null,
   "metadata": {
    "collapsed": true
   },
   "outputs": [],
   "source": [
    "coeffs[-10:]"
   ]
  },
  {
   "cell_type": "code",
   "execution_count": null,
   "metadata": {
    "collapsed": true
   },
   "outputs": [],
   "source": []
  },
  {
   "cell_type": "markdown",
   "metadata": {},
   "source": [
    "### Functions for computing F1 Score and converting results to correct cubmission format"
   ]
  },
  {
   "cell_type": "code",
   "execution_count": 40,
   "metadata": {
    "collapsed": true
   },
   "outputs": [],
   "source": [
    "# Dataframe with association between each user and its corresponding order in the training or test set\n",
    "userToOrder = orders[orders[\"eval_set\"].isin([\"test\",\"train\"])][[\"user_id\",\"order_id\",\"eval_set\"]]\n",
    "\n",
    "# def dataFrameToSubmission(predictionsTest):\n",
    "#     \"\"\" \n",
    "#     predictionsTest: dataframe with table of (product_id, order) to Series of the type (product_id, [orders])\n",
    "#     \"\"\"\n",
    "#     # get all orders in the training set. We do this to add new rows with explicit \"None\" when an order_id is absent \n",
    "#     testOrders = userToOrder[userToOrder[\"eval_set\"]==\"test\"][[\"order_id\"]]\n",
    "    \n",
    "#     ret = []\n",
    "#     for order_id, data in predictionsTest.groupby(\"order_id\"):\n",
    "#         products = data[\"product_id\"].tolist()\n",
    "#         productsStr = \" \".join([str(p) for p in products])\n",
    "#         ret.append({\"order_id\":order_id, \"products\":productsStr})\n",
    "#     ret = pd.DataFrame(ret)\n",
    "    \n",
    "#     # We need to add explicit \"None\" for empty orders\n",
    "#     ret = pd.merge(ret, testOrders, on=\"order_id\", how=\"right\")\n",
    "#     ret[[\"products\"]] = ret[[\"products\"]].fillna(\"None\")\n",
    "\n",
    "#     return ret\n",
    "\n",
    "# Compute F1 score on the holdout set\n",
    "def computeF1(predictions_proba, y_true, thres):\n",
    "    y_pred = (predictions_proba > thres).astype(int)\n",
    "    \n",
    "    return f1_score(y_pred, y_true)"
   ]
  },
  {
   "cell_type": "markdown",
   "metadata": {},
   "source": [
    "### Tune probability threshold for optimal F1 Score\n",
    "\n",
    "Kaggle is scoring on top F1 Score"
   ]
  },
  {
   "cell_type": "code",
   "execution_count": null,
   "metadata": {
    "collapsed": true
   },
   "outputs": [],
   "source": [
    "def plot_fl(model, feat):    \n",
    "    thres = np.linspace(0.15,0.25,30)\n",
    "\n",
    "    # The second column contains probabiity of positive\n",
    "    proba_holdout = model.predict_proba(X_holdout[feat].values)[:,1]\n",
    "\n",
    "    y = [computeF1(proba_holdout, y_holdout, t) for t in thres]\n",
    "    plt.plot(thres, y)\n",
    "    plt.ylabel(\"F1 score\")\n",
    "    plt.xlabel(\"threshold\")\n",
    "    \n",
    "plot_fl(lr, X_holdout.columns)"
   ]
  },
  {
   "cell_type": "code",
   "execution_count": null,
   "metadata": {
    "collapsed": true
   },
   "outputs": [],
   "source": [
    "proba_holdout = lr.predict_proba(X_holdout[X_holdout.columns].values)[:,1]"
   ]
  },
  {
   "cell_type": "code",
   "execution_count": 41,
   "metadata": {
    "collapsed": true,
    "scrolled": true
   },
   "outputs": [],
   "source": [
    "from sklearn.metrics import confusion_matrix\n",
    "\n",
    "def cnf_mtx(probs, threshold):\n",
    "    labels = [0, 1]\n",
    "    y_true = y_holdout.values\n",
    "    y_pred = probs > threshold\n",
    "    y_pred = y_pred.astype(int)\n",
    "    cnf_matrix = confusion_matrix(y_true, y_pred, labels)\n",
    "    sns.heatmap(cnf_matrix, annot=True, xticklabels = labels, yticklabels = labels, cmap = 'Blues', fmt='g', square = True)\n",
    "    plt.ylabel('Actual')\n",
    "    plt.xlabel('Predicted')\n",
    "    \n",
    "#cnf_mtx(proba_holdout, 0.21)"
   ]
  },
  {
   "cell_type": "markdown",
   "metadata": {},
   "source": [
    "### Train Logistic Regression Model"
   ]
  },
  {
   "cell_type": "code",
   "execution_count": null,
   "metadata": {
    "collapsed": true
   },
   "outputs": [],
   "source": [
    "X = featuresTrain.drop(dropped, 1).values\n",
    "y = featuresTrain[\"repurchased\"].values\n",
    "print(y)\n",
    "\n",
    "model = LogisticRegression().fit(X, y)"
   ]
  },
  {
   "cell_type": "code",
   "execution_count": null,
   "metadata": {
    "collapsed": true
   },
   "outputs": [],
   "source": [
    "threshold = 0.21\n",
    "\n",
    "def model_and_submit(model, threshold, feat):\n",
    "    test_drop_col = [\"user_id\",\"last_order_number\",\"product_id\"]\n",
    "    feat = [x for x in feat if x not in test_drop_col]\n",
    "    predTest = model.predict_proba(featuresTest[feat].values)[:,1] > threshold\n",
    "    purchasedTest = pd.concat([featuresTest[[\"user_id\",\"product_id\"]], pd.DataFrame({\"Repurchased\":predTest})], axis=1)\n",
    "    purchasedTest = purchasedTest[purchasedTest[\"Repurchased\"]==True].drop(\"Repurchased\", 1).reset_index(drop=True)\n",
    "\n",
    "    # Reappend order_id information\n",
    "    purchasedTest = pd.merge(purchasedTest, orders[orders[\"eval_set\"]==\"test\"], on=\"user_id\")[[\"order_id\",\"product_id\"]]\n",
    "\n",
    "    print(purchasedTest.head())\n",
    "\n",
    "    submission = dataFrameToSubmission(purchasedTest)\n",
    "    submission.to_csv(\"LR2sub.csv\", columns=[\"order_id\", \"products\"], index=False)\n",
    "    sub = pd.read_csv('LR2sub.csv')\n",
    "    print('None Order Total: ', len(sub[sub['products']=='None']))\n",
    "        "
   ]
  },
  {
   "cell_type": "code",
   "execution_count": null,
   "metadata": {
    "collapsed": true
   },
   "outputs": [],
   "source": [
    "model_and_submit(model, threshold, list(featuresTest.columns))"
   ]
  },
  {
   "cell_type": "code",
   "execution_count": null,
   "metadata": {
    "collapsed": true
   },
   "outputs": [],
   "source": []
  },
  {
   "cell_type": "code",
   "execution_count": null,
   "metadata": {
    "collapsed": true
   },
   "outputs": [],
   "source": [
    "sub = pd.read_csv('sub.csv')\n",
    "sub.head()"
   ]
  },
  {
   "cell_type": "code",
   "execution_count": null,
   "metadata": {
    "collapsed": true
   },
   "outputs": [],
   "source": [
    "len(sub[sub['products']=='None'])"
   ]
  },
  {
   "cell_type": "markdown",
   "metadata": {},
   "source": [
    "### XGBoost\n",
    "\n",
    "slow but great results"
   ]
  },
  {
   "cell_type": "code",
   "execution_count": 46,
   "metadata": {
    "collapsed": false
   },
   "outputs": [],
   "source": [
    "import xgboost as xgb"
   ]
  },
  {
   "cell_type": "code",
   "execution_count": 47,
   "metadata": {
    "collapsed": false
   },
   "outputs": [
    {
     "name": "stdout",
     "output_type": "stream",
     "text": [
      "[0]\tvalidation_0-logloss:0.658687\n",
      "Will train until validation_0-logloss hasn't improved in 50 rounds.\n",
      "[1]\tvalidation_0-logloss:0.627511\n",
      "[2]\tvalidation_0-logloss:0.599214\n",
      "[3]\tvalidation_0-logloss:0.57343\n",
      "[4]\tvalidation_0-logloss:0.549849\n",
      "[5]\tvalidation_0-logloss:0.528274\n",
      "[6]\tvalidation_0-logloss:0.508441\n",
      "[7]\tvalidation_0-logloss:0.490179\n",
      "[8]\tvalidation_0-logloss:0.473359\n",
      "[9]\tvalidation_0-logloss:0.457845\n",
      "[10]\tvalidation_0-logloss:0.443467\n",
      "[11]\tvalidation_0-logloss:0.4302\n",
      "[12]\tvalidation_0-logloss:0.417893\n",
      "[13]\tvalidation_0-logloss:0.406495\n",
      "[14]\tvalidation_0-logloss:0.39591\n",
      "[15]\tvalidation_0-logloss:0.38606\n",
      "[16]\tvalidation_0-logloss:0.376897\n",
      "[17]\tvalidation_0-logloss:0.368388\n",
      "[18]\tvalidation_0-logloss:0.360458\n",
      "[19]\tvalidation_0-logloss:0.353072\n",
      "[20]\tvalidation_0-logloss:0.346197\n",
      "[21]\tvalidation_0-logloss:0.339766\n",
      "[22]\tvalidation_0-logloss:0.333761\n",
      "[23]\tvalidation_0-logloss:0.328175\n",
      "[24]\tvalidation_0-logloss:0.322966\n",
      "[25]\tvalidation_0-logloss:0.318092\n",
      "[26]\tvalidation_0-logloss:0.313565\n",
      "[27]\tvalidation_0-logloss:0.309325\n",
      "[28]\tvalidation_0-logloss:0.305388\n",
      "[29]\tvalidation_0-logloss:0.301684\n",
      "[30]\tvalidation_0-logloss:0.298223\n",
      "[31]\tvalidation_0-logloss:0.295004\n",
      "[32]\tvalidation_0-logloss:0.291995\n",
      "[33]\tvalidation_0-logloss:0.289187\n",
      "[34]\tvalidation_0-logloss:0.286558\n",
      "[35]\tvalidation_0-logloss:0.284102\n",
      "[36]\tvalidation_0-logloss:0.281811\n",
      "[37]\tvalidation_0-logloss:0.279673\n",
      "[38]\tvalidation_0-logloss:0.277677\n",
      "[39]\tvalidation_0-logloss:0.275812\n",
      "[40]\tvalidation_0-logloss:0.274051\n",
      "[41]\tvalidation_0-logloss:0.272411\n",
      "[42]\tvalidation_0-logloss:0.270868\n",
      "[43]\tvalidation_0-logloss:0.269446\n",
      "[44]\tvalidation_0-logloss:0.268118\n",
      "[45]\tvalidation_0-logloss:0.266874\n",
      "[46]\tvalidation_0-logloss:0.26572\n",
      "[47]\tvalidation_0-logloss:0.264643\n",
      "[48]\tvalidation_0-logloss:0.263629\n",
      "[49]\tvalidation_0-logloss:0.262689\n",
      "[50]\tvalidation_0-logloss:0.261795\n",
      "[51]\tvalidation_0-logloss:0.260968\n",
      "[52]\tvalidation_0-logloss:0.260205\n",
      "[53]\tvalidation_0-logloss:0.259495\n",
      "[54]\tvalidation_0-logloss:0.258832\n",
      "[55]\tvalidation_0-logloss:0.258219\n",
      "[56]\tvalidation_0-logloss:0.257631\n",
      "[57]\tvalidation_0-logloss:0.257077\n",
      "[58]\tvalidation_0-logloss:0.25657\n",
      "[59]\tvalidation_0-logloss:0.256096\n",
      "[60]\tvalidation_0-logloss:0.255655\n",
      "[61]\tvalidation_0-logloss:0.255245\n",
      "[62]\tvalidation_0-logloss:0.254861\n",
      "[63]\tvalidation_0-logloss:0.254489\n",
      "[64]\tvalidation_0-logloss:0.254151\n",
      "[65]\tvalidation_0-logloss:0.253846\n",
      "[66]\tvalidation_0-logloss:0.253557\n",
      "[67]\tvalidation_0-logloss:0.253289\n",
      "[68]\tvalidation_0-logloss:0.253031\n",
      "[69]\tvalidation_0-logloss:0.252791\n",
      "[70]\tvalidation_0-logloss:0.252571\n",
      "[71]\tvalidation_0-logloss:0.252362\n",
      "[72]\tvalidation_0-logloss:0.252153\n",
      "[73]\tvalidation_0-logloss:0.251975\n",
      "[74]\tvalidation_0-logloss:0.251809\n",
      "[75]\tvalidation_0-logloss:0.251645\n",
      "[76]\tvalidation_0-logloss:0.251498\n",
      "[77]\tvalidation_0-logloss:0.251362\n",
      "[78]\tvalidation_0-logloss:0.251222\n",
      "[79]\tvalidation_0-logloss:0.251106\n",
      "[80]\tvalidation_0-logloss:0.250997\n",
      "[81]\tvalidation_0-logloss:0.250868\n",
      "[82]\tvalidation_0-logloss:0.250768\n",
      "[83]\tvalidation_0-logloss:0.250678\n",
      "[84]\tvalidation_0-logloss:0.250598\n",
      "[85]\tvalidation_0-logloss:0.250519\n",
      "[86]\tvalidation_0-logloss:0.250434\n",
      "[87]\tvalidation_0-logloss:0.250373\n",
      "[88]\tvalidation_0-logloss:0.250302\n",
      "[89]\tvalidation_0-logloss:0.250248\n",
      "[90]\tvalidation_0-logloss:0.250195\n",
      "[91]\tvalidation_0-logloss:0.250135\n",
      "[92]\tvalidation_0-logloss:0.250095\n",
      "[93]\tvalidation_0-logloss:0.250037\n",
      "[94]\tvalidation_0-logloss:0.249987\n",
      "[95]\tvalidation_0-logloss:0.249949\n",
      "[96]\tvalidation_0-logloss:0.249909\n",
      "[97]\tvalidation_0-logloss:0.249875\n",
      "[98]\tvalidation_0-logloss:0.249841\n",
      "[99]\tvalidation_0-logloss:0.249807\n",
      "[100]\tvalidation_0-logloss:0.249776\n",
      "[101]\tvalidation_0-logloss:0.249749\n",
      "[102]\tvalidation_0-logloss:0.249733\n",
      "[103]\tvalidation_0-logloss:0.249711\n",
      "[104]\tvalidation_0-logloss:0.249673\n",
      "[105]\tvalidation_0-logloss:0.249653\n",
      "[106]\tvalidation_0-logloss:0.249623\n",
      "[107]\tvalidation_0-logloss:0.249608\n",
      "[108]\tvalidation_0-logloss:0.249586\n",
      "[109]\tvalidation_0-logloss:0.249563\n",
      "[110]\tvalidation_0-logloss:0.249548\n",
      "[111]\tvalidation_0-logloss:0.249542\n",
      "[112]\tvalidation_0-logloss:0.249528\n",
      "[113]\tvalidation_0-logloss:0.249523\n",
      "[114]\tvalidation_0-logloss:0.24951\n",
      "[115]\tvalidation_0-logloss:0.249494\n",
      "[116]\tvalidation_0-logloss:0.249457\n",
      "[117]\tvalidation_0-logloss:0.249428\n",
      "[118]\tvalidation_0-logloss:0.249427\n",
      "[119]\tvalidation_0-logloss:0.249411\n",
      "[120]\tvalidation_0-logloss:0.249407\n",
      "[121]\tvalidation_0-logloss:0.249388\n",
      "[122]\tvalidation_0-logloss:0.249379\n",
      "[123]\tvalidation_0-logloss:0.249386\n",
      "[124]\tvalidation_0-logloss:0.249373\n",
      "[125]\tvalidation_0-logloss:0.249363\n",
      "[126]\tvalidation_0-logloss:0.249348\n",
      "[127]\tvalidation_0-logloss:0.249336\n",
      "[128]\tvalidation_0-logloss:0.249321\n",
      "[129]\tvalidation_0-logloss:0.249329\n",
      "[130]\tvalidation_0-logloss:0.249332\n",
      "[131]\tvalidation_0-logloss:0.249327\n",
      "[132]\tvalidation_0-logloss:0.249319\n",
      "[133]\tvalidation_0-logloss:0.2493\n",
      "[134]\tvalidation_0-logloss:0.249294\n",
      "[135]\tvalidation_0-logloss:0.249294\n",
      "[136]\tvalidation_0-logloss:0.249279\n",
      "[137]\tvalidation_0-logloss:0.249265\n",
      "[138]\tvalidation_0-logloss:0.249255\n",
      "[139]\tvalidation_0-logloss:0.249257\n",
      "[140]\tvalidation_0-logloss:0.249249\n",
      "[141]\tvalidation_0-logloss:0.24925\n",
      "[142]\tvalidation_0-logloss:0.249249\n",
      "[143]\tvalidation_0-logloss:0.249245\n",
      "[144]\tvalidation_0-logloss:0.249238\n",
      "[145]\tvalidation_0-logloss:0.249243\n",
      "[146]\tvalidation_0-logloss:0.249225\n",
      "[147]\tvalidation_0-logloss:0.249229\n",
      "[148]\tvalidation_0-logloss:0.249234\n",
      "[149]\tvalidation_0-logloss:0.249216\n",
      "[150]\tvalidation_0-logloss:0.249216\n",
      "[151]\tvalidation_0-logloss:0.249216\n",
      "[152]\tvalidation_0-logloss:0.249183\n",
      "[153]\tvalidation_0-logloss:0.249177\n",
      "[154]\tvalidation_0-logloss:0.249177\n",
      "[155]\tvalidation_0-logloss:0.249176\n",
      "[156]\tvalidation_0-logloss:0.24918\n",
      "[157]\tvalidation_0-logloss:0.249182\n",
      "[158]\tvalidation_0-logloss:0.249194\n",
      "[159]\tvalidation_0-logloss:0.249187\n",
      "[160]\tvalidation_0-logloss:0.249182\n",
      "[161]\tvalidation_0-logloss:0.249184\n",
      "[162]\tvalidation_0-logloss:0.249174\n",
      "[163]\tvalidation_0-logloss:0.249154\n",
      "[164]\tvalidation_0-logloss:0.249142\n",
      "[165]\tvalidation_0-logloss:0.249144\n",
      "[166]\tvalidation_0-logloss:0.24915\n",
      "[167]\tvalidation_0-logloss:0.249156\n",
      "[168]\tvalidation_0-logloss:0.249153\n",
      "[169]\tvalidation_0-logloss:0.24915\n",
      "[170]\tvalidation_0-logloss:0.249142\n",
      "[171]\tvalidation_0-logloss:0.249138\n",
      "[172]\tvalidation_0-logloss:0.249136\n",
      "[173]\tvalidation_0-logloss:0.249135\n",
      "[174]\tvalidation_0-logloss:0.249139\n",
      "[175]\tvalidation_0-logloss:0.249132\n",
      "[176]\tvalidation_0-logloss:0.249133\n",
      "[177]\tvalidation_0-logloss:0.249127\n",
      "[178]\tvalidation_0-logloss:0.249114\n",
      "[179]\tvalidation_0-logloss:0.249117\n",
      "[180]\tvalidation_0-logloss:0.249115\n",
      "[181]\tvalidation_0-logloss:0.249117\n",
      "[182]\tvalidation_0-logloss:0.249114\n",
      "[183]\tvalidation_0-logloss:0.249119\n",
      "[184]\tvalidation_0-logloss:0.249115\n",
      "[185]\tvalidation_0-logloss:0.249099\n",
      "[186]\tvalidation_0-logloss:0.249088\n",
      "[187]\tvalidation_0-logloss:0.249086\n",
      "[188]\tvalidation_0-logloss:0.24909\n",
      "[189]\tvalidation_0-logloss:0.249101\n",
      "[190]\tvalidation_0-logloss:0.249103\n",
      "[191]\tvalidation_0-logloss:0.249102\n",
      "[192]\tvalidation_0-logloss:0.249105\n",
      "[193]\tvalidation_0-logloss:0.249088\n",
      "[194]\tvalidation_0-logloss:0.249089\n",
      "[195]\tvalidation_0-logloss:0.249106\n",
      "[196]\tvalidation_0-logloss:0.249107\n",
      "[197]\tvalidation_0-logloss:0.249105\n",
      "[198]\tvalidation_0-logloss:0.249108\n",
      "[199]\tvalidation_0-logloss:0.249107\n",
      "[200]\tvalidation_0-logloss:0.249108\n",
      "[201]\tvalidation_0-logloss:0.249107\n",
      "[202]\tvalidation_0-logloss:0.249092\n",
      "[203]\tvalidation_0-logloss:0.249101\n",
      "[204]\tvalidation_0-logloss:0.249092\n",
      "[205]\tvalidation_0-logloss:0.2491\n",
      "[206]\tvalidation_0-logloss:0.249107\n",
      "[207]\tvalidation_0-logloss:0.249101\n",
      "[208]\tvalidation_0-logloss:0.249095\n",
      "[209]\tvalidation_0-logloss:0.249097\n",
      "[210]\tvalidation_0-logloss:0.249095\n",
      "[211]\tvalidation_0-logloss:0.249099\n",
      "[212]\tvalidation_0-logloss:0.2491\n",
      "[213]\tvalidation_0-logloss:0.249097\n",
      "[214]\tvalidation_0-logloss:0.249095\n",
      "[215]\tvalidation_0-logloss:0.249088\n",
      "[216]\tvalidation_0-logloss:0.24909\n",
      "[217]\tvalidation_0-logloss:0.249099\n",
      "[218]\tvalidation_0-logloss:0.249105\n",
      "[219]\tvalidation_0-logloss:0.249104\n",
      "[220]\tvalidation_0-logloss:0.249106\n",
      "[221]\tvalidation_0-logloss:0.249108\n",
      "[222]\tvalidation_0-logloss:0.249107\n",
      "[223]\tvalidation_0-logloss:0.249105\n",
      "[224]\tvalidation_0-logloss:0.249106\n",
      "[225]\tvalidation_0-logloss:0.249107\n",
      "[226]\tvalidation_0-logloss:0.249104\n",
      "[227]\tvalidation_0-logloss:0.249108\n",
      "[228]\tvalidation_0-logloss:0.249118\n",
      "[229]\tvalidation_0-logloss:0.249125\n",
      "[230]\tvalidation_0-logloss:0.249123\n",
      "[231]\tvalidation_0-logloss:0.249134\n",
      "[232]\tvalidation_0-logloss:0.249136\n",
      "[233]\tvalidation_0-logloss:0.249134\n",
      "[234]\tvalidation_0-logloss:0.249137\n",
      "[235]\tvalidation_0-logloss:0.249137\n",
      "[236]\tvalidation_0-logloss:0.249136\n",
      "[237]\tvalidation_0-logloss:0.249131\n",
      "Stopping. Best iteration:\n",
      "[187]\tvalidation_0-logloss:0.249086\n",
      "\n"
     ]
    },
    {
     "data": {
      "text/plain": [
       "XGBClassifier(base_score=0.5, booster='gbtree', colsample_bylevel=1,\n",
       "       colsample_bytree=1, gamma=0, learning_rate=0.05, max_delta_step=0,\n",
       "       max_depth=6, min_child_weight=1, missing=None, n_estimators=2000,\n",
       "       n_jobs=1, nthread=-1, objective='binary:logistic', random_state=0,\n",
       "       reg_alpha=0, reg_lambda=1, scale_pos_weight=1, seed=None,\n",
       "       silent=True, subsample=1)"
      ]
     },
     "execution_count": 47,
     "metadata": {},
     "output_type": "execute_result"
    }
   ],
   "source": [
    "xgb_model = xgb.XGBClassifier(max_depth=6, n_estimators=2000, learning_rate=0.05, nthread=-1)\n",
    "\n",
    "eval_set = [(X_holdout, y_holdout)]\n",
    "\n",
    "xgb_model.fit(X_train, y_train, early_stopping_rounds=50, \n",
    "        eval_metric=[\"logloss\"], eval_set=eval_set)"
   ]
  },
  {
   "cell_type": "markdown",
   "metadata": {
    "collapsed": true
   },
   "source": [
    "### XGB Feature Importances"
   ]
  },
  {
   "cell_type": "code",
   "execution_count": 48,
   "metadata": {
    "collapsed": false,
    "scrolled": false
   },
   "outputs": [
    {
     "data": {
      "text/plain": [
       "<matplotlib.axes._subplots.AxesSubplot at 0x1886d14e0>"
      ]
     },
     "execution_count": 48,
     "metadata": {},
     "output_type": "execute_result"
    },
    {
     "data": {
      "image/png": "[encoded data removed]",
      "text/plain": [
       "<matplotlib.figure.Figure at 0x1886b5dd8>"
      ]
     },
     "metadata": {},
     "output_type": "display_data"
    }
   ],
   "source": [
    "xgb.plot_importance(xgb_model, max_num_features=20)"
   ]
  },
  {
   "cell_type": "code",
   "execution_count": null,
   "metadata": {
    "collapsed": true
   },
   "outputs": [],
   "source": []
  },
  {
   "cell_type": "code",
   "execution_count": 43,
   "metadata": {
    "collapsed": false
   },
   "outputs": [
    {
     "name": "stdout",
     "output_type": "stream",
     "text": [
      "done\n"
     ]
    }
   ],
   "source": [
    "X = featuresTrain.drop(dropped, 1)\n",
    "y = featuresTrain[\"repurchased\"]\n",
    "\n",
    "\n",
    "#xgb_model2 = xgb.XGBClassifier(max_depth=6, n_estimators=929, learning_rate=0.05, nthread=-1)\n",
    "#xgb_model2.fit(X, y, eval_metric=[\"logloss\"])\n",
    "print('done')"
   ]
  },
  {
   "cell_type": "code",
   "execution_count": null,
   "metadata": {
    "collapsed": true
   },
   "outputs": [],
   "source": []
  },
  {
   "cell_type": "markdown",
   "metadata": {},
   "source": [
    "### Save Model"
   ]
  },
  {
   "cell_type": "code",
   "execution_count": null,
   "metadata": {
    "collapsed": true
   },
   "outputs": [],
   "source": [
    "import pickle\n",
    "filename = 'xgb_model3.pkl'\n",
    "#pickle.dump(xgb_model, open(filename, 'wb'))\n",
    "\n"
   ]
  },
  {
   "cell_type": "code",
   "execution_count": null,
   "metadata": {
    "collapsed": true
   },
   "outputs": [],
   "source": [
    "filename = 'xgb_model3.pkl'\n",
    "xgb_model = pickle.load(open(filename, 'rb'))"
   ]
  },
  {
   "cell_type": "markdown",
   "metadata": {},
   "source": [
    "### LightGBM\n",
    "\n",
    "much faster than XGBoost but gives very similar results!"
   ]
  },
  {
   "cell_type": "code",
   "execution_count": 44,
   "metadata": {
    "collapsed": false
   },
   "outputs": [
    {
     "name": "stdout",
     "output_type": "stream",
     "text": [
      "[1]\tvalid_0's auc: 0.810296\tvalid_0's binary_logloss: 0.65887\n",
      "Train until valid scores didn't improve in 50 rounds.\n",
      "[2]\tvalid_0's auc: 0.823293\tvalid_0's binary_logloss: 0.62762\n",
      "[3]\tvalid_0's auc: 0.825811\tvalid_0's binary_logloss: 0.599148\n",
      "[4]\tvalid_0's auc: 0.82555\tvalid_0's binary_logloss: 0.57373\n",
      "[5]\tvalid_0's auc: 0.825945\tvalid_0's binary_logloss: 0.550217\n",
      "[6]\tvalid_0's auc: 0.826394\tvalid_0's binary_logloss: 0.528725\n",
      "[7]\tvalid_0's auc: 0.827036\tvalid_0's binary_logloss: 0.508818\n",
      "[8]\tvalid_0's auc: 0.827681\tvalid_0's binary_logloss: 0.490407\n",
      "[9]\tvalid_0's auc: 0.828039\tvalid_0's binary_logloss: 0.47346\n",
      "[10]\tvalid_0's auc: 0.828175\tvalid_0's binary_logloss: 0.457824\n",
      "[11]\tvalid_0's auc: 0.82785\tvalid_0's binary_logloss: 0.443747\n",
      "[12]\tvalid_0's auc: 0.828131\tvalid_0's binary_logloss: 0.430408\n",
      "[13]\tvalid_0's auc: 0.828272\tvalid_0's binary_logloss: 0.418\n",
      "[14]\tvalid_0's auc: 0.828258\tvalid_0's binary_logloss: 0.406592\n",
      "[15]\tvalid_0's auc: 0.82896\tvalid_0's binary_logloss: 0.396497\n",
      "[16]\tvalid_0's auc: 0.829074\tvalid_0's binary_logloss: 0.386504\n",
      "[17]\tvalid_0's auc: 0.828902\tvalid_0's binary_logloss: 0.377418\n",
      "[18]\tvalid_0's auc: 0.828801\tvalid_0's binary_logloss: 0.368884\n",
      "[19]\tvalid_0's auc: 0.828852\tvalid_0's binary_logloss: 0.360843\n",
      "[20]\tvalid_0's auc: 0.828728\tvalid_0's binary_logloss: 0.353612\n",
      "[21]\tvalid_0's auc: 0.828833\tvalid_0's binary_logloss: 0.346626\n",
      "[22]\tvalid_0's auc: 0.82884\tvalid_0's binary_logloss: 0.340151\n",
      "[23]\tvalid_0's auc: 0.828855\tvalid_0's binary_logloss: 0.334189\n",
      "[24]\tvalid_0's auc: 0.828945\tvalid_0's binary_logloss: 0.328538\n",
      "[25]\tvalid_0's auc: 0.829006\tvalid_0's binary_logloss: 0.323269\n",
      "[26]\tvalid_0's auc: 0.829065\tvalid_0's binary_logloss: 0.318309\n",
      "[27]\tvalid_0's auc: 0.829022\tvalid_0's binary_logloss: 0.313773\n",
      "[28]\tvalid_0's auc: 0.829145\tvalid_0's binary_logloss: 0.309444\n",
      "[29]\tvalid_0's auc: 0.829157\tvalid_0's binary_logloss: 0.305497\n",
      "[30]\tvalid_0's auc: 0.829231\tvalid_0's binary_logloss: 0.301737\n",
      "[31]\tvalid_0's auc: 0.829371\tvalid_0's binary_logloss: 0.298171\n",
      "[32]\tvalid_0's auc: 0.829389\tvalid_0's binary_logloss: 0.294901\n",
      "[33]\tvalid_0's auc: 0.829418\tvalid_0's binary_logloss: 0.291957\n",
      "[34]\tvalid_0's auc: 0.829399\tvalid_0's binary_logloss: 0.289199\n",
      "[35]\tvalid_0's auc: 0.829427\tvalid_0's binary_logloss: 0.286528\n",
      "[36]\tvalid_0's auc: 0.829487\tvalid_0's binary_logloss: 0.284027\n",
      "[37]\tvalid_0's auc: 0.829555\tvalid_0's binary_logloss: 0.281667\n",
      "[38]\tvalid_0's auc: 0.829743\tvalid_0's binary_logloss: 0.279457\n",
      "[39]\tvalid_0's auc: 0.829968\tvalid_0's binary_logloss: 0.27736\n",
      "[40]\tvalid_0's auc: 0.830054\tvalid_0's binary_logloss: 0.275463\n",
      "[41]\tvalid_0's auc: 0.830085\tvalid_0's binary_logloss: 0.273783\n",
      "[42]\tvalid_0's auc: 0.830177\tvalid_0's binary_logloss: 0.27211\n",
      "[43]\tvalid_0's auc: 0.830222\tvalid_0's binary_logloss: 0.270591\n",
      "[44]\tvalid_0's auc: 0.830316\tvalid_0's binary_logloss: 0.269091\n",
      "[45]\tvalid_0's auc: 0.830303\tvalid_0's binary_logloss: 0.267797\n",
      "[46]\tvalid_0's auc: 0.830338\tvalid_0's binary_logloss: 0.266556\n",
      "[47]\tvalid_0's auc: 0.830438\tvalid_0's binary_logloss: 0.265373\n",
      "[48]\tvalid_0's auc: 0.830534\tvalid_0's binary_logloss: 0.264236\n",
      "[49]\tvalid_0's auc: 0.830565\tvalid_0's binary_logloss: 0.263213\n",
      "[50]\tvalid_0's auc: 0.83069\tvalid_0's binary_logloss: 0.262378\n",
      "[51]\tvalid_0's auc: 0.830829\tvalid_0's binary_logloss: 0.261425\n",
      "[52]\tvalid_0's auc: 0.830847\tvalid_0's binary_logloss: 0.260625\n",
      "[53]\tvalid_0's auc: 0.830942\tvalid_0's binary_logloss: 0.25998\n",
      "[54]\tvalid_0's auc: 0.830967\tvalid_0's binary_logloss: 0.259404\n",
      "[55]\tvalid_0's auc: 0.831089\tvalid_0's binary_logloss: 0.258661\n",
      "[56]\tvalid_0's auc: 0.83111\tvalid_0's binary_logloss: 0.258015\n",
      "[57]\tvalid_0's auc: 0.83112\tvalid_0's binary_logloss: 0.257388\n",
      "[58]\tvalid_0's auc: 0.831121\tvalid_0's binary_logloss: 0.256817\n",
      "[59]\tvalid_0's auc: 0.831158\tvalid_0's binary_logloss: 0.256288\n",
      "[60]\tvalid_0's auc: 0.831167\tvalid_0's binary_logloss: 0.255808\n",
      "[61]\tvalid_0's auc: 0.831198\tvalid_0's binary_logloss: 0.255346\n",
      "[62]\tvalid_0's auc: 0.831241\tvalid_0's binary_logloss: 0.254901\n",
      "[63]\tvalid_0's auc: 0.831269\tvalid_0's binary_logloss: 0.254489\n",
      "[64]\tvalid_0's auc: 0.831291\tvalid_0's binary_logloss: 0.254125\n",
      "[65]\tvalid_0's auc: 0.831324\tvalid_0's binary_logloss: 0.253782\n",
      "[66]\tvalid_0's auc: 0.831394\tvalid_0's binary_logloss: 0.253429\n",
      "[67]\tvalid_0's auc: 0.831453\tvalid_0's binary_logloss: 0.253199\n",
      "[68]\tvalid_0's auc: 0.831567\tvalid_0's binary_logloss: 0.252882\n",
      "[69]\tvalid_0's auc: 0.831578\tvalid_0's binary_logloss: 0.252629\n",
      "[70]\tvalid_0's auc: 0.831613\tvalid_0's binary_logloss: 0.252375\n",
      "[71]\tvalid_0's auc: 0.831662\tvalid_0's binary_logloss: 0.252118\n",
      "[72]\tvalid_0's auc: 0.831672\tvalid_0's binary_logloss: 0.251915\n",
      "[73]\tvalid_0's auc: 0.831716\tvalid_0's binary_logloss: 0.25171\n",
      "[74]\tvalid_0's auc: 0.831733\tvalid_0's binary_logloss: 0.251523\n",
      "[75]\tvalid_0's auc: 0.831735\tvalid_0's binary_logloss: 0.25135\n",
      "[76]\tvalid_0's auc: 0.831706\tvalid_0's binary_logloss: 0.251194\n",
      "[77]\tvalid_0's auc: 0.831721\tvalid_0's binary_logloss: 0.251058\n",
      "[78]\tvalid_0's auc: 0.831718\tvalid_0's binary_logloss: 0.250935\n",
      "[79]\tvalid_0's auc: 0.831732\tvalid_0's binary_logloss: 0.250802\n",
      "[80]\tvalid_0's auc: 0.831745\tvalid_0's binary_logloss: 0.250683\n",
      "[81]\tvalid_0's auc: 0.831764\tvalid_0's binary_logloss: 0.250571\n",
      "[82]\tvalid_0's auc: 0.83177\tvalid_0's binary_logloss: 0.250478\n",
      "[83]\tvalid_0's auc: 0.831743\tvalid_0's binary_logloss: 0.250408\n",
      "[84]\tvalid_0's auc: 0.831737\tvalid_0's binary_logloss: 0.250303\n",
      "[85]\tvalid_0's auc: 0.831741\tvalid_0's binary_logloss: 0.250228\n",
      "[86]\tvalid_0's auc: 0.831801\tvalid_0's binary_logloss: 0.250141\n",
      "[87]\tvalid_0's auc: 0.831804\tvalid_0's binary_logloss: 0.250077\n",
      "[88]\tvalid_0's auc: 0.83179\tvalid_0's binary_logloss: 0.250039\n",
      "[89]\tvalid_0's auc: 0.831797\tvalid_0's binary_logloss: 0.249984\n",
      "[90]\tvalid_0's auc: 0.831826\tvalid_0's binary_logloss: 0.249933\n",
      "[91]\tvalid_0's auc: 0.831844\tvalid_0's binary_logloss: 0.249863\n",
      "[92]\tvalid_0's auc: 0.83186\tvalid_0's binary_logloss: 0.249809\n",
      "[93]\tvalid_0's auc: 0.831881\tvalid_0's binary_logloss: 0.249757\n",
      "[94]\tvalid_0's auc: 0.831954\tvalid_0's binary_logloss: 0.249689\n",
      "[95]\tvalid_0's auc: 0.831938\tvalid_0's binary_logloss: 0.249656\n",
      "[96]\tvalid_0's auc: 0.832004\tvalid_0's binary_logloss: 0.249594\n",
      "[97]\tvalid_0's auc: 0.83202\tvalid_0's binary_logloss: 0.249556\n",
      "[98]\tvalid_0's auc: 0.832038\tvalid_0's binary_logloss: 0.249525\n",
      "[99]\tvalid_0's auc: 0.832027\tvalid_0's binary_logloss: 0.249507\n",
      "[100]\tvalid_0's auc: 0.832011\tvalid_0's binary_logloss: 0.249494\n",
      "[101]\tvalid_0's auc: 0.831999\tvalid_0's binary_logloss: 0.249478\n",
      "[102]\tvalid_0's auc: 0.831989\tvalid_0's binary_logloss: 0.249458\n",
      "[103]\tvalid_0's auc: 0.831976\tvalid_0's binary_logloss: 0.249454\n",
      "[104]\tvalid_0's auc: 0.832\tvalid_0's binary_logloss: 0.249426\n",
      "[105]\tvalid_0's auc: 0.831959\tvalid_0's binary_logloss: 0.249422\n",
      "[106]\tvalid_0's auc: 0.831969\tvalid_0's binary_logloss: 0.249411\n",
      "[107]\tvalid_0's auc: 0.831957\tvalid_0's binary_logloss: 0.2494\n",
      "[108]\tvalid_0's auc: 0.831986\tvalid_0's binary_logloss: 0.249374\n",
      "[109]\tvalid_0's auc: 0.831981\tvalid_0's binary_logloss: 0.249359\n",
      "[110]\tvalid_0's auc: 0.831974\tvalid_0's binary_logloss: 0.249354\n",
      "[111]\tvalid_0's auc: 0.832002\tvalid_0's binary_logloss: 0.249337\n",
      "[112]\tvalid_0's auc: 0.832001\tvalid_0's binary_logloss: 0.249333\n",
      "[113]\tvalid_0's auc: 0.832026\tvalid_0's binary_logloss: 0.24931\n",
      "[114]\tvalid_0's auc: 0.832048\tvalid_0's binary_logloss: 0.249294\n",
      "[115]\tvalid_0's auc: 0.832057\tvalid_0's binary_logloss: 0.249286\n",
      "[116]\tvalid_0's auc: 0.832071\tvalid_0's binary_logloss: 0.24927\n",
      "[117]\tvalid_0's auc: 0.832068\tvalid_0's binary_logloss: 0.249267\n",
      "[118]\tvalid_0's auc: 0.832063\tvalid_0's binary_logloss: 0.249266\n",
      "[119]\tvalid_0's auc: 0.832038\tvalid_0's binary_logloss: 0.249285\n",
      "[120]\tvalid_0's auc: 0.832029\tvalid_0's binary_logloss: 0.249287\n",
      "[121]\tvalid_0's auc: 0.832003\tvalid_0's binary_logloss: 0.249292\n",
      "[122]\tvalid_0's auc: 0.831985\tvalid_0's binary_logloss: 0.249291\n",
      "[123]\tvalid_0's auc: 0.831985\tvalid_0's binary_logloss: 0.249291\n",
      "[124]\tvalid_0's auc: 0.83199\tvalid_0's binary_logloss: 0.249288\n",
      "[125]\tvalid_0's auc: 0.832005\tvalid_0's binary_logloss: 0.24928\n",
      "[126]\tvalid_0's auc: 0.832023\tvalid_0's binary_logloss: 0.249267\n",
      "[127]\tvalid_0's auc: 0.832017\tvalid_0's binary_logloss: 0.24925\n",
      "[128]\tvalid_0's auc: 0.83199\tvalid_0's binary_logloss: 0.249257\n",
      "[129]\tvalid_0's auc: 0.831986\tvalid_0's binary_logloss: 0.249254\n",
      "[130]\tvalid_0's auc: 0.832002\tvalid_0's binary_logloss: 0.249239\n",
      "[131]\tvalid_0's auc: 0.831995\tvalid_0's binary_logloss: 0.249252\n",
      "[132]\tvalid_0's auc: 0.831985\tvalid_0's binary_logloss: 0.249253\n",
      "[133]\tvalid_0's auc: 0.831995\tvalid_0's binary_logloss: 0.249252\n",
      "[134]\tvalid_0's auc: 0.831981\tvalid_0's binary_logloss: 0.249261\n",
      "[135]\tvalid_0's auc: 0.831977\tvalid_0's binary_logloss: 0.249265\n",
      "[136]\tvalid_0's auc: 0.83195\tvalid_0's binary_logloss: 0.249273\n",
      "[137]\tvalid_0's auc: 0.831936\tvalid_0's binary_logloss: 0.249278\n",
      "[138]\tvalid_0's auc: 0.831919\tvalid_0's binary_logloss: 0.249281\n",
      "[139]\tvalid_0's auc: 0.831904\tvalid_0's binary_logloss: 0.249285\n",
      "[140]\tvalid_0's auc: 0.831904\tvalid_0's binary_logloss: 0.24929\n",
      "[141]\tvalid_0's auc: 0.831897\tvalid_0's binary_logloss: 0.2493\n",
      "[142]\tvalid_0's auc: 0.831898\tvalid_0's binary_logloss: 0.249297\n",
      "[143]\tvalid_0's auc: 0.831885\tvalid_0's binary_logloss: 0.249299\n",
      "[144]\tvalid_0's auc: 0.831841\tvalid_0's binary_logloss: 0.249316\n",
      "[145]\tvalid_0's auc: 0.831817\tvalid_0's binary_logloss: 0.249327\n",
      "[146]\tvalid_0's auc: 0.831803\tvalid_0's binary_logloss: 0.249333\n",
      "[147]\tvalid_0's auc: 0.831809\tvalid_0's binary_logloss: 0.249332\n",
      "[148]\tvalid_0's auc: 0.8318\tvalid_0's binary_logloss: 0.249336\n",
      "[149]\tvalid_0's auc: 0.831775\tvalid_0's binary_logloss: 0.249343\n",
      "[150]\tvalid_0's auc: 0.831756\tvalid_0's binary_logloss: 0.24935\n",
      "[151]\tvalid_0's auc: 0.831767\tvalid_0's binary_logloss: 0.249346\n",
      "[152]\tvalid_0's auc: 0.831741\tvalid_0's binary_logloss: 0.24936\n",
      "[153]\tvalid_0's auc: 0.831729\tvalid_0's binary_logloss: 0.249375\n",
      "[154]\tvalid_0's auc: 0.831775\tvalid_0's binary_logloss: 0.249348\n",
      "[155]\tvalid_0's auc: 0.831754\tvalid_0's binary_logloss: 0.249355\n",
      "[156]\tvalid_0's auc: 0.831747\tvalid_0's binary_logloss: 0.249359\n",
      "[157]\tvalid_0's auc: 0.831734\tvalid_0's binary_logloss: 0.249376\n",
      "[158]\tvalid_0's auc: 0.831735\tvalid_0's binary_logloss: 0.249379\n",
      "[159]\tvalid_0's auc: 0.831716\tvalid_0's binary_logloss: 0.249384\n",
      "[160]\tvalid_0's auc: 0.831668\tvalid_0's binary_logloss: 0.249408\n",
      "[161]\tvalid_0's auc: 0.831663\tvalid_0's binary_logloss: 0.249413\n",
      "[162]\tvalid_0's auc: 0.83167\tvalid_0's binary_logloss: 0.249417\n",
      "[163]\tvalid_0's auc: 0.831655\tvalid_0's binary_logloss: 0.249428\n",
      "[164]\tvalid_0's auc: 0.83164\tvalid_0's binary_logloss: 0.249433\n",
      "[165]\tvalid_0's auc: 0.83166\tvalid_0's binary_logloss: 0.249431\n",
      "[166]\tvalid_0's auc: 0.831674\tvalid_0's binary_logloss: 0.249427\n",
      "Early stopping, best iteration is:\n",
      "[116]\tvalid_0's auc: 0.832071\tvalid_0's binary_logloss: 0.24927\n"
     ]
    }
   ],
   "source": [
    "import lightgbm as lgb\n",
    "\n",
    "lgb_train = lgb.Dataset(X_train,y_train) \n",
    "lgb_eval = lgb.Dataset(X_holdout, y_holdout)\n",
    "\n",
    "lgb_full = lgb.Dataset(X,y)\n",
    "\n",
    "params = {\n",
    "        'task': 'train',\n",
    "        'boosting_type': 'gbdt',\n",
    "        'objective': 'binary',\n",
    "        'metric': {'binary_logloss', 'auc'},\n",
    "        'num_leaves': 256,\n",
    "        'min_sum_hessian_in_leaf':20,\n",
    "        'max_depth': -12,\n",
    "        'learning_rate': 0.05,\n",
    "        'feature_fraction': 0.6,\n",
    "        # 'bagging_fraction': 0.9,\n",
    "        # 'bagging_freq': 3,\n",
    "        'verbose': 1\n",
    "    }\n",
    "\n",
    "\n",
    "lgbm = lgb.train(params,lgb_train,num_boost_round=2000,valid_sets=lgb_eval,early_stopping_rounds=50)\n"
   ]
  },
  {
   "cell_type": "markdown",
   "metadata": {},
   "source": [
    "### LGBM Feature Importances\n",
    "\n",
    "We notice some different features are more important here than in XGBoost"
   ]
  },
  {
   "cell_type": "code",
   "execution_count": 51,
   "metadata": {
    "collapsed": false
   },
   "outputs": [
    {
     "data": {
      "text/plain": [
       "<matplotlib.axes._subplots.AxesSubplot at 0x195eba5f8>"
      ]
     },
     "execution_count": 51,
     "metadata": {},
     "output_type": "execute_result"
    },
    {
     "data": {
      "image/png": "[encoded data removed]",
      "text/plain": [
       "<matplotlib.figure.Figure at 0x12ffb2f60>"
      ]
     },
     "metadata": {},
     "output_type": "display_data"
    }
   ],
   "source": [
    "lgb.plot_importance(lgbm, max_num_features=20)"
   ]
  },
  {
   "cell_type": "code",
   "execution_count": null,
   "metadata": {
    "collapsed": true
   },
   "outputs": [],
   "source": [
    "filename = 'lgb_model.pkl'\n",
    "pickle.dump(lgbm, open(filename, 'wb'))"
   ]
  },
  {
   "cell_type": "code",
   "execution_count": null,
   "metadata": {
    "collapsed": true
   },
   "outputs": [],
   "source": []
  },
  {
   "cell_type": "code",
   "execution_count": null,
   "metadata": {
    "collapsed": false
   },
   "outputs": [],
   "source": [
    "lgbm_full = lgb.train(params,lgb_full, 260)\n",
    "print('lgb done')"
   ]
  },
  {
   "cell_type": "code",
   "execution_count": null,
   "metadata": {
    "collapsed": true
   },
   "outputs": [],
   "source": [
    "filename = 'lgb_model2.pkl'\n",
    "pickle.dump(lgbm_full, open(filename, 'wb'))"
   ]
  },
  {
   "cell_type": "markdown",
   "metadata": {},
   "source": [
    "### Code to Optimize Reorders for F1 on a User Level\n",
    "\n",
    "Thank you 'Faron' from the Kaggle Discussion Boards, I learned a lot from this!\n",
    "\n",
    "Read this paper on how to optimize F1 [Optimizing F-measure: A Tale of Two Approaches](https://arxiv.org/abs/1206.4625)"
   ]
  },
  {
   "cell_type": "code",
   "execution_count": 45,
   "metadata": {
    "collapsed": true
   },
   "outputs": [],
   "source": [
    "class F1Optimizer():\n",
    "    def __init__(self):\n",
    "        pass\n",
    "\n",
    "    @staticmethod\n",
    "    def get_expectations(P, pNone=None):\n",
    "        expectations = []\n",
    "        P = np.sort(P)[::-1]\n",
    "\n",
    "        n = np.array(P).shape[0]\n",
    "        DP_C = np.zeros((n + 2, n + 1))\n",
    "        if pNone is None:\n",
    "            pNone = (1.0 - P).prod()\n",
    "\n",
    "        DP_C[0][0] = 1.0\n",
    "        for j in range(1, n):\n",
    "            DP_C[0][j] = (1.0 - P[j - 1]) * DP_C[0, j - 1]\n",
    "\n",
    "        for i in range(1, n + 1):\n",
    "            DP_C[i, i] = DP_C[i - 1, i - 1] * P[i - 1]\n",
    "            for j in range(i + 1, n + 1):\n",
    "                DP_C[i, j] = P[j - 1] * DP_C[i - 1, j - 1] + (1.0 - P[j - 1]) * DP_C[i, j - 1]\n",
    "\n",
    "        DP_S = np.zeros((2 * n + 1,))\n",
    "        DP_SNone = np.zeros((2 * n + 1,))\n",
    "        for i in range(1, 2 * n + 1):\n",
    "            DP_S[i] = 1. / (1. * i)\n",
    "            DP_SNone[i] = 1. / (1. * i + 1)\n",
    "        for k in range(n + 1)[::-1]:\n",
    "            f1 = 0\n",
    "            f1None = 0\n",
    "            for k1 in range(n + 1):\n",
    "                f1 += 2 * k1 * DP_C[k1][k] * DP_S[k + k1]\n",
    "                f1None += 2 * k1 * DP_C[k1][k] * DP_SNone[k + k1]\n",
    "            for i in range(1, 2 * k - 1):\n",
    "                DP_S[i] = (1 - P[k - 1]) * DP_S[i] + P[k - 1] * DP_S[i + 1]\n",
    "                DP_SNone[i] = (1 - P[k - 1]) * DP_SNone[i] + P[k - 1] * DP_SNone[i + 1]\n",
    "            expectations.append([f1None + 2 * pNone / (2 + k), f1])\n",
    "\n",
    "        return np.array(expectations[::-1]).T\n",
    "\n",
    "    @staticmethod\n",
    "    def maximize_expectation(P, pNone=None):\n",
    "        expectations = F1Optimizer.get_expectations(P, pNone)\n",
    "\n",
    "        ix_max = np.unravel_index(expectations.argmax(), expectations.shape)\n",
    "        max_f1 = expectations[ix_max]\n",
    "\n",
    "        predNone = True if ix_max[0] == 0 else False\n",
    "        best_k = ix_max[1]\n",
    "\n",
    "        return best_k, predNone, max_f1\n",
    "\n",
    "    @staticmethod\n",
    "    def _F1(tp, fp, fn):\n",
    "        return 2 * tp / (2 * tp + fp + fn)\n",
    "\n",
    "    @staticmethod\n",
    "    def _Fbeta(tp, fp, fn, beta=1.0):\n",
    "        beta_squared = beta ** 2\n",
    "        return (1.0 + beta_squared) * tp / ((1.0 + beta_squared) * tp + fp + beta_squared * fn)"
   ]
  },
  {
   "cell_type": "code",
   "execution_count": null,
   "metadata": {
    "collapsed": true
   },
   "outputs": [],
   "source": []
  },
  {
   "cell_type": "markdown",
   "metadata": {
    "collapsed": true
   },
   "source": [
    "### Find optimal threshold for F1\n",
    "\n",
    "Great strategy for the beginning of the competition, but Faron's F1 Optimizer proved to be way more effective than choosing a signle threshold.\n",
    "\n",
    "I used Faron's optimizer for my final submission"
   ]
  },
  {
   "cell_type": "code",
   "execution_count": 52,
   "metadata": {
    "collapsed": false
   },
   "outputs": [
    {
     "data": {
      "image/png": "[encoded data removed]",
      "text/plain": [
       "<matplotlib.figure.Figure at 0x13be46a20>"
      ]
     },
     "metadata": {},
     "output_type": "display_data"
    }
   ],
   "source": [
    "def xgb_plot_f1(model, feat):    \n",
    "    thres = np.linspace(0.15,0.25,30)\n",
    "    #d_holdout = xgb.DMatrix(X_holdout)\n",
    "    # The second column contains probabiity of positive\n",
    "    xgb_holdout = model.predict_proba(X_holdout)[:,1]\n",
    "    #xgb_holdout = model.predict(d_holdout)\n",
    "    y = [computeF1(xgb_holdout, y_holdout, t) for t in thres]\n",
    "    plt.plot(thres, y)\n",
    "    plt.ylabel(\"F1 score\")\n",
    "    plt.xlabel(\"threshold\")\n",
    "    \n",
    "#xgb_plot_f1(bst, X_holdout.columns)\n",
    "xgb_plot_f1(xgb_model, X_holdout.columns)"
   ]
  },
  {
   "cell_type": "markdown",
   "metadata": {},
   "source": [
    "### Make Predictions and Submit\n",
    "\n",
    "Here I allow the option to input two models (say an XGBoost model and LightGBM model) and then take the average of the two predicted probabilities (hopefully less overfitting for final leaderboard this way). \n",
    "\n",
    "This method placed me in the top 20% of the competition!"
   ]
  },
  {
   "cell_type": "code",
   "execution_count": 55,
   "metadata": {
    "collapsed": false
   },
   "outputs": [
    {
     "name": "stdout",
     "output_type": "stream",
     "text": [
      "0\n",
      "10000\n",
      "20000\n",
      "30000\n",
      "40000\n",
      "50000\n",
      "60000\n",
      "70000\n",
      "None Order Total:  1468\n",
      "CPU times: user 59min 47s, sys: 2min 46s, total: 1h 2min 34s\n",
      "Wall time: 1h 8min 32s\n"
     ]
    }
   ],
   "source": [
    "def gb_optimize(model1, model2, feat):\n",
    "    test_drop_col = [\"user_id\",\"order_number\",\"product_id\", \"Unnamed: 0\"]\n",
    "    feat = [x for x in feat if x not in test_drop_col]\n",
    "    \n",
    "\n",
    "    predTest1 = model1.predict(featuresTest[feat])\n",
    "    predTest2 = model2.predict_proba(featuresTest[feat])[:,1]\n",
    "    \n",
    "    predTest = [(x+y)/2 for x,y in zip(predTest1,predTest2)]\n",
    "    \n",
    "    purchasedTest = pd.concat([featuresTest[[\"user_id\",\"product_id\"]], pd.DataFrame({\"Repurchased\":predTest})], axis=1)\n",
    "    \n",
    "    submit_dict = {}\n",
    "    count=0\n",
    "    \n",
    "    ### Using Farons F1 Optimizer for each user in test set\n",
    "    for user in list(purchasedTest['user_id'].unique()):\n",
    "        if count%10000==0:\n",
    "            print(count)\n",
    "            \n",
    "        user_df = purchasedTest[purchasedTest['user_id']==user].sort_values('Repurchased', ascending=False)\n",
    "        P = user_df['Repurchased']\n",
    "        L = list(user_df['product_id'])\n",
    "        pNone = (1.0 - P).prod()\n",
    "        opt = F1Optimizer.maximize_expectation(P, pNone)\n",
    "        best_prediction = ['None'] if opt[1] else []\n",
    "        best_prediction += (L[:opt[0]])\n",
    "        submit_dict[user] = ' '.join(str(x) for x in best_prediction)\n",
    "        count+=1\n",
    "    \n",
    "    ### converting to correct submission format\n",
    "    \n",
    "    submit = pd.DataFrame.from_dict(submit_dict, orient='index')\n",
    "\n",
    "    submit.reset_index(inplace=True)\n",
    "    submit.columns = ['user_id', 'products']\n",
    "    purchasedTest = pd.merge(submit, orders[orders[\"eval_set\"]==\"test\"], on=\"user_id\")[[\"order_id\",\"products\"]]\n",
    "    purchasedTest.sort_values('order_id', ascending=True).to_csv('F1_opt_lgb.csv', index=False)\n",
    "    f1_opt = pd.read_csv('F1_opt_lgb.csv')\n",
    "    print('None Order Total: ', len(f1_opt[f1_opt['products']=='None']))\n",
    "    \n",
    "%time gb_optimize(lgbm, xgb_model, featuresTest.columns)"
   ]
  },
  {
   "cell_type": "code",
   "execution_count": null,
   "metadata": {
    "collapsed": true
   },
   "outputs": [],
   "source": []
  },
  {
   "cell_type": "markdown",
   "metadata": {},
   "source": [
    "### Evaluate Models"
   ]
  },
  {
   "cell_type": "code",
   "execution_count": 56,
   "metadata": {
    "collapsed": false
   },
   "outputs": [
    {
     "data": {
      "text/plain": [
       "[<matplotlib.lines.Line2D at 0x145bf7240>]"
      ]
     },
     "execution_count": 56,
     "metadata": {},
     "output_type": "execute_result"
    },
    {
     "data": {
      "image/png": "[encoded data removed]",
      "text/plain": [
       "<matplotlib.figure.Figure at 0x13bedc5f8>"
      ]
     },
     "metadata": {},
     "output_type": "display_data"
    }
   ],
   "source": [
    "rounds = np.arange(len(xgb_model.evals_result()['validation_0']['logloss']))\n",
    "logloss = xgb_model.evals_result()['validation_0']['logloss']\n",
    "plt.plot(rounds,logloss)"
   ]
  },
  {
   "cell_type": "code",
   "execution_count": null,
   "metadata": {
    "collapsed": false
   },
   "outputs": [],
   "source": []
  },
  {
   "cell_type": "code",
   "execution_count": null,
   "metadata": {
    "collapsed": true
   },
   "outputs": [],
   "source": []
  },
  {
   "cell_type": "code",
   "execution_count": null,
   "metadata": {
    "collapsed": true
   },
   "outputs": [],
   "source": []
  }
 ],
 "metadata": {
  "kernelspec": {
   "display_name": "Python 3",
   "language": "python",
   "name": "python3"
  },
  "language_info": {
   "codemirror_mode": {
    "name": "ipython",
    "version": 3
   },
   "file_extension": ".py",
   "mimetype": "text/x-python",
   "name": "python",
   "nbconvert_exporter": "python",
   "pygments_lexer": "ipython3",
   "version": "3.6.0"
  }
 },
 "nbformat": 4,
 "nbformat_minor": 2
}
